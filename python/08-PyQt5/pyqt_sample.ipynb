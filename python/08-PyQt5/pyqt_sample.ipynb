{
 "cells": [
  {
   "cell_type": "markdown",
   "metadata": {},
   "source": [
    "## pyqt\n",
    "Simple example"
   ]
  },
  {
   "cell_type": "code",
   "execution_count": null,
   "metadata": {
    "collapsed": true
   },
   "outputs": [],
   "source": [
    "#!/usr/bin/python3\n",
    "#-*- coding:utf-8 -*-\n",
    "import sys\n",
    "from PyQt5.QtWidgets import QApplication, QWidget\n",
    "from PyQt5.QtWidgets import QToolTip, QPushButton\n",
    "from PyQt5.QtWidgets import QMessageBox\n",
    "from PyQt5.QtWidgets import QDesktopWidget # 提供用户的桌面信息，包括屏幕的大小\n",
    "from PyQt5.QtGui import QIcon,QFont\n",
    "from PyQt5.QtCore import QCoreApplication\n",
    "\n",
    "class Testpyqt(QWidget):\n",
    "    def __init__(self):\n",
    "        super().__init__()\n",
    "        self.initUI()\n",
    "\n",
    "    def initUI(self):\n",
    "        self.move(300, 300)  # move()是修改控件位置的的方法。它把控件放置到屏幕坐标的(300, 300)的位置\n",
    "        self.resize(250, 150)  # 改变控件的大小，窗口宽250px，高150px\n",
    "        self.setGeometry(300, 300, 250, 150)\n",
    "        #################### 窗口图标 #########################\n",
    "        self.setWindowTitle('搜狗') # 给窗口添加了一个标题\n",
    "        self.setWindowIcon(QIcon('icon.png'))# 设置图标logo\n",
    "\n",
    "        #################### 按钮与提示框 #########################\n",
    "        QToolTip.setFont(QFont('SansSerif', 10)) # 设置提示框的字体，10px的SansSerif字体\n",
    "        # self.setToolTip('This is a <b>QWidget</b> widget')# 调用setTooltip()创建提示框,可以使用富文本格式的内容\n",
    "        btn = QPushButton('Button', self) #创建一个按钮\n",
    "        btn.setToolTip('This is a <b>QPushButton</b> widget') #为按钮添加一个提示框\n",
    "        btn.resize(btn.sizeHint())#调整按钮大小，sizeHint():默认按钮大小\n",
    "        btn.move(50, 50)\n",
    "\n",
    "        #################### 退出 #########################\n",
    "        qbtn = QPushButton('Quit', self)# 创建一个继承自QPushButton的按钮\n",
    "        qbtn.clicked.connect(QCoreApplication.instance().quit)# 事件传递系统在PyQt5内建的single和slot机制里面\n",
    "                                                             # 点击事件和能终止进程并退出应用的quit函数绑定在了一起\n",
    "        qbtn.resize(qbtn.sizeHint())\n",
    "        qbtn.move(150, 50)\n",
    "\n",
    "        self.center()\n",
    "        self.show()# show()能让控件在桌面上显示出来。控件在内存里创建，之后才能在显示器上显示出来。\n",
    "        ################### 消息盒子 #########################\n",
    "    def closeEvent(self,event):   # E大写\n",
    "        # 如果关闭QWidget，就会产生一个QCloseEvent，并且把它传入到closeEvent函数的event参数中\n",
    "        reply = QMessageBox.question(self, 'Message',\n",
    "                                     \"Are you sure to quit?\", QMessageBox.Yes |\n",
    "                                     QMessageBox.No, QMessageBox.No)\n",
    "        if reply == QMessageBox.Yes:\n",
    "            event.accept()\n",
    "        else:\n",
    "            event.ignore()\n",
    "    ################### 窗口居中 #########################\n",
    "    def center(self):\n",
    "        qr = self.frameGeometry() #获得主窗口所在的框架\n",
    "        cp = QDesktopWidget().availableGeometry().center() # 获取显示器的分辨率，然后得到屏幕中间点的位置\n",
    "        qr.moveCenter(cp) # 把主窗口框架的中心点放置到屏幕的中心位置\n",
    "        self.move(qr.topLeft()) #通过move函数把主窗口的左上角移动到其框架的左上角\n",
    "\n",
    "if __name__ == \"__main__\":\n",
    "    app = QApplication(sys.argv)\n",
    "    ex = Testpyqt()\n",
    "    sys.exit(app.exec_())  # 进入了应用的主循环中，事件处理器这个时候开始工作。主循环从窗口上接收事件，\n",
    "    # 并把事件传入到派发到应用控件里。当调用exit()方法或直接销毁主控件时，主循环就会结束。\n",
    "\n",
    "\n"
   ]
  }
 ],
 "metadata": {
  "anaconda-cloud": {},
  "kernelspec": {
   "display_name": "Python [default]",
   "language": "python",
   "name": "python3"
  },
  "language_info": {
   "codemirror_mode": {
    "name": "ipython",
    "version": 3
   },
   "file_extension": ".py",
   "mimetype": "text/x-python",
   "name": "python",
   "nbconvert_exporter": "python",
   "pygments_lexer": "ipython3",
   "version": "3.5.6"
  }
 },
 "nbformat": 4,
 "nbformat_minor": 2
}
