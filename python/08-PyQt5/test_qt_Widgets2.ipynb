{
 "cells": [
  {
   "cell_type": "markdown",
   "metadata": {},
   "source": [
    "## 控件\n",
    "* QPixmap，QLineEdit，QSplitter，和QComboBox\n",
    "* [QPixmap](#QPixmap)\n",
    "* [行编辑](#行编辑)\n",
    "* [QSplitter](#QSplitter)\n",
    "* [下拉选框](#下拉选框)"
   ]
  },
  {
   "cell_type": "markdown",
   "metadata": {},
   "source": [
    "<a id='QPixmap'></a>\n",
    "### QPixmap\n",
    "QPixmap是处理图片的组件"
   ]
  },
  {
   "cell_type": "code",
   "execution_count": 1,
   "metadata": {
    "collapsed": false
   },
   "outputs": [
    {
     "ename": "SystemExit",
     "evalue": "0",
     "output_type": "error",
     "traceback": [
      "An exception has occurred, use %tb to see the full traceback.\n",
      "\u001b[1;31mSystemExit\u001b[0m\u001b[1;31m:\u001b[0m 0\n"
     ]
    },
    {
     "name": "stderr",
     "output_type": "stream",
     "text": [
      "c:\\python37\\lib\\site-packages\\IPython\\core\\interactiveshell.py:3334: UserWarning: To exit: use 'exit', 'quit', or Ctrl-D.\n",
      "  warn(\"To exit: use 'exit', 'quit', or Ctrl-D.\", stacklevel=1)\n"
     ]
    }
   ],
   "source": [
    "#!/usr/bin/python3\n",
    "# -*- coding: utf-8 -*-\n",
    "\n",
    "\"\"\"\n",
    "ZetCode PyQt5 tutorial \n",
    "\n",
    "In this example, we dispay an image\n",
    "on the window. \n",
    "\n",
    "Author: Jan Bodnar\n",
    "Website: zetcode.com \n",
    "Last edited: August 2017\n",
    "\"\"\"\n",
    "\n",
    "from PyQt5.QtWidgets import (QWidget, QHBoxLayout, \n",
    "    QLabel, QApplication)\n",
    "from PyQt5.QtGui import QPixmap\n",
    "import sys\n",
    "\n",
    "class Example(QWidget):\n",
    "    \n",
    "    def __init__(self):\n",
    "        super().__init__()\n",
    "        \n",
    "        self.initUI()\n",
    "        \n",
    "        \n",
    "    def initUI(self):      \n",
    "        # 创建一个QPixmap对象，接收一个文件作为参数\n",
    "        hbox = QHBoxLayout(self)\n",
    "        pixmap = QPixmap(\"exit.jpg\")\n",
    "\n",
    "        # 把QPixmap实例放到QLabel组件里\n",
    "        lbl = QLabel(self)\n",
    "        lbl.setPixmap(pixmap)\n",
    "\n",
    "        hbox.addWidget(lbl)\n",
    "        self.setLayout(hbox)\n",
    "        \n",
    "        self.move(300, 200)\n",
    "        self.setWindowTitle('Red Rock')\n",
    "        self.show()        \n",
    "        \n",
    "        \n",
    "if __name__ == '__main__':\n",
    "    \n",
    "    app = QApplication(sys.argv)\n",
    "    ex = Example()\n",
    "    sys.exit(app.exec_())"
   ]
  },
  {
   "cell_type": "markdown",
   "metadata": {},
   "source": [
    "<a id='行编辑'></a>\n",
    "### 行编辑\n",
    "QLineEdit组件提供了编辑文本的功能，自带了撤销、重做、剪切、粘贴、拖拽等功能。"
   ]
  },
  {
   "cell_type": "code",
   "execution_count": 1,
   "metadata": {
    "collapsed": false
   },
   "outputs": [
    {
     "ename": "SystemExit",
     "evalue": "0",
     "output_type": "error",
     "traceback": [
      "An exception has occurred, use %tb to see the full traceback.\n",
      "\u001b[0;31mSystemExit\u001b[0m\u001b[0;31m:\u001b[0m 0\n"
     ]
    },
    {
     "name": "stderr",
     "output_type": "stream",
     "text": [
      "D:\\Anaconda\\lib\\site-packages\\IPython\\core\\interactiveshell.py:2889: UserWarning: To exit: use 'exit', 'quit', or Ctrl-D.\n",
      "  warn(\"To exit: use 'exit', 'quit', or Ctrl-D.\", stacklevel=1)\n"
     ]
    }
   ],
   "source": [
    "#!/usr/bin/python3\n",
    "# -*- coding: utf-8 -*-\n",
    "\n",
    "\"\"\"\n",
    "ZetCode PyQt5 tutorial \n",
    "\n",
    "This example shows text which \n",
    "is entered in a QLineEdit\n",
    "in a QLabel widget.\n",
    " \n",
    "Author: Jan Bodnar\n",
    "Website: zetcode.com \n",
    "Last edited: August 2017\n",
    "\"\"\"\n",
    "\n",
    "import sys\n",
    "from PyQt5.QtWidgets import (QWidget, QLabel, \n",
    "    QLineEdit, QApplication)\n",
    "\n",
    "\n",
    "class Example(QWidget):\n",
    "    \n",
    "    def __init__(self):\n",
    "        super().__init__()\n",
    "        \n",
    "        self.initUI()\n",
    "        \n",
    "        \n",
    "    def initUI(self):      \n",
    "\n",
    "        self.lbl = QLabel(self)\n",
    "        qle = QLineEdit(self)# 创建一个QLineEdit对象\n",
    "        \n",
    "        qle.move(60, 100)\n",
    "        self.lbl.move(60, 40)\n",
    "        \n",
    "        # 如果输入框的值有变化，就调用onChanged()方法。\n",
    "        qle.textChanged[str].connect(self.onChanged)\n",
    "        \n",
    "        self.setGeometry(300, 300, 280, 170)\n",
    "        self.setWindowTitle('QLineEdit')\n",
    "        self.show()\n",
    "        \n",
    "        \n",
    "    def onChanged(self, text):\n",
    "        # 在onChanged()方法内部，我们把文本框里的值赋值给了标签组件，\n",
    "        # 然后调用adjustSize()方法让标签自适应文本内容。\n",
    "        self.lbl.setText(text)\n",
    "        self.lbl.adjustSize()        \n",
    "        \n",
    "        \n",
    "if __name__ == '__main__':\n",
    "    \n",
    "    app = QApplication(sys.argv)\n",
    "    ex = Example()\n",
    "    sys.exit(app.exec_())"
   ]
  },
  {
   "cell_type": "markdown",
   "metadata": {},
   "source": [
    "<a id='QSplitter'></a>\n",
    "###  QSplitter\n",
    "QSplitter组件能让用户通过拖拽分割线的方式改变子窗口大小的组件。本例中我们展示用两个分割线隔开的三个QFrame组件。"
   ]
  },
  {
   "cell_type": "code",
   "execution_count": null,
   "metadata": {
    "collapsed": true
   },
   "outputs": [],
   "source": [
    "#!/usr/bin/python3\n",
    "# -*- coding: utf-8 -*-\n",
    "\n",
    "\"\"\"\n",
    "ZetCode PyQt5 tutorial \n",
    "\n",
    "This example shows\n",
    "how to use QSplitter widget.\n",
    " \n",
    "Author: Jan Bodnar\n",
    "Website: zetcode.com \n",
    "Last edited: August 2017\n",
    "\"\"\"\n",
    "\n",
    "from PyQt5.QtWidgets import (QWidget, QHBoxLayout, QFrame, \n",
    "    QSplitter, QStyleFactory, QApplication)\n",
    "from PyQt5.QtCore import Qt\n",
    "import sys\n",
    "\n",
    "class Example(QWidget):\n",
    "    \n",
    "    def __init__(self):\n",
    "        super().__init__()\n",
    "        \n",
    "        self.initUI()\n",
    "        \n",
    "        \n",
    "    def initUI(self):      \n",
    "\n",
    "        hbox = QHBoxLayout(self)\n",
    "        \n",
    "        # 为了更清楚的看到分割线，我们使用了设置好的子窗口样式。\n",
    "        topleft = QFrame(self)\n",
    "        topleft.setFrameShape(QFrame.StyledPanel)\n",
    " \n",
    "        topright = QFrame(self)\n",
    "        topright.setFrameShape(QFrame.StyledPanel)\n",
    "\n",
    "        bottom = QFrame(self)\n",
    "        bottom.setFrameShape(QFrame.StyledPanel)\n",
    "\n",
    "        # 创建一个QSplitter组件，并在里面添加了两个框架。\n",
    "        splitter1 = QSplitter(Qt.Horizontal)\n",
    "        splitter1.addWidget(topleft)\n",
    "        splitter1.addWidget(topright)\n",
    "\n",
    "        # 也可以在分割线里面再进行分割。\n",
    "        splitter2 = QSplitter(Qt.Vertical)\n",
    "        splitter2.addWidget(splitter1)\n",
    "        splitter2.addWidget(bottom)\n",
    "\n",
    "        hbox.addWidget(splitter2)\n",
    "        self.setLayout(hbox)\n",
    "        \n",
    "        self.setGeometry(300, 300, 300, 200)\n",
    "        self.setWindowTitle('QSplitter')\n",
    "        self.show()\n",
    "        \n",
    "        \n",
    "    def onChanged(self, text):\n",
    "        \n",
    "        self.lbl.setText(text)\n",
    "        self.lbl.adjustSize()        \n",
    "        \n",
    "        \n",
    "if __name__ == '__main__':\n",
    "    \n",
    "    app = QApplication(sys.argv)\n",
    "    ex = Example()\n",
    "    sys.exit(app.exec_())"
   ]
  },
  {
   "cell_type": "markdown",
   "metadata": {},
   "source": [
    "<a id='下拉选框'></a>\n",
    "### 下拉选框\n",
    "QComboBox组件能让用户在多个选择项中选择一个。"
   ]
  },
  {
   "cell_type": "code",
   "execution_count": 1,
   "metadata": {
    "collapsed": false
   },
   "outputs": [
    {
     "ename": "SystemExit",
     "evalue": "0",
     "output_type": "error",
     "traceback": [
      "An exception has occurred, use %tb to see the full traceback.\n",
      "\u001b[0;31mSystemExit\u001b[0m\u001b[0;31m:\u001b[0m 0\n"
     ]
    },
    {
     "name": "stderr",
     "output_type": "stream",
     "text": [
      "D:\\Anaconda\\lib\\site-packages\\IPython\\core\\interactiveshell.py:2889: UserWarning: To exit: use 'exit', 'quit', or Ctrl-D.\n",
      "  warn(\"To exit: use 'exit', 'quit', or Ctrl-D.\", stacklevel=1)\n"
     ]
    }
   ],
   "source": [
    "#!/usr/bin/python3\n",
    "# -*- coding: utf-8 -*-\n",
    "\n",
    "\"\"\"\n",
    "ZetCode PyQt5 tutorial \n",
    "\n",
    "This example shows how to use \n",
    "a QComboBox widget.\n",
    " \n",
    "Author: Jan Bodnar\n",
    "Website: zetcode.com \n",
    "Last edited: August 2017\n",
    "\"\"\"\n",
    "\n",
    "from PyQt5.QtWidgets import (QWidget, QLabel, \n",
    "    QComboBox, QApplication)\n",
    "import sys\n",
    "\n",
    "class Example(QWidget):\n",
    "    \n",
    "    def __init__(self):\n",
    "        super().__init__()\n",
    "        \n",
    "        self.initUI()\n",
    "        \n",
    "        \n",
    "    def initUI(self):      \n",
    "\n",
    "        self.lbl = QLabel(\"Ubuntu\", self)\n",
    "        # 创建一个QComboBox组件和五个选项。\n",
    "        combo = QComboBox(self)\n",
    "        combo.addItem(\"Ubuntu\")\n",
    "        combo.addItem(\"Mandriva\")\n",
    "        combo.addItem(\"Fedora\")\n",
    "        combo.addItem(\"Arch\")\n",
    "        combo.addItem(\"Gentoo\")\n",
    "\n",
    "        combo.move(50, 50)\n",
    "        self.lbl.move(50, 150)\n",
    "        \n",
    "        # 在选中的条目上调用onActivated()方法。\n",
    "        combo.activated[str].connect(self.onActivated)        \n",
    "         \n",
    "        self.setGeometry(300, 300, 300, 200)\n",
    "        self.setWindowTitle('QComboBox')\n",
    "        self.show()\n",
    "        \n",
    "        \n",
    "    def onActivated(self, text):\n",
    "        # 在方法内部，设置标签内容为选定的字符串，然后设置自适应文本大小。\n",
    "        self.lbl.setText(text)\n",
    "        self.lbl.adjustSize()  \n",
    "        \n",
    "                \n",
    "if __name__ == '__main__':\n",
    "    \n",
    "    app = QApplication(sys.argv)\n",
    "    ex = Example()\n",
    "    sys.exit(app.exec_())"
   ]
  },
  {
   "cell_type": "code",
   "execution_count": null,
   "metadata": {
    "collapsed": true
   },
   "outputs": [],
   "source": []
  }
 ],
 "metadata": {
  "anaconda-cloud": {},
  "kernelspec": {
   "display_name": "Python [default]",
   "language": "python",
   "name": "python3"
  },
  "language_info": {
   "codemirror_mode": {
    "name": "ipython",
    "version": 3
   },
   "file_extension": ".py",
   "mimetype": "text/x-python",
   "name": "python",
   "nbconvert_exporter": "python",
   "pygments_lexer": "ipython3",
   "version": "3.5.6"
  }
 },
 "nbformat": 4,
 "nbformat_minor": 2
}
