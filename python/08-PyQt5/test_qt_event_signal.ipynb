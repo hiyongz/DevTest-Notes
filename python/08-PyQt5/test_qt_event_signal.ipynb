{
 "cells": [
  {
   "cell_type": "code",
   "execution_count": 3,
   "metadata": {
    "collapsed": false
   },
   "outputs": [
    {
     "ename": "SyntaxError",
     "evalue": "invalid syntax (<ipython-input-3-7128b6858c1c>, line 1)",
     "output_type": "error",
     "traceback": [
      "\u001b[1;36m  File \u001b[1;32m\"<ipython-input-3-7128b6858c1c>\"\u001b[1;36m, line \u001b[1;32m1\u001b[0m\n\u001b[1;33m    >> 事件和信号 Events and signals\u001b[0m\n\u001b[1;37m     ^\u001b[0m\n\u001b[1;31mSyntaxError\u001b[0m\u001b[1;31m:\u001b[0m invalid syntax\n"
     ]
    }
   ],
   "source": [
    "\n"
   ]
  },
  {
   "cell_type": "markdown",
   "metadata": {},
   "source": [
    "##  事件和信号 \n",
    "* 所有的应用都是事件驱动的。\n",
    "* 事件大部分都是由用户的行为产生的，当然也有其他的事件产生方式，比如网络的连接，窗口管理器或者定时器等。\n",
    "* 调用应用的exec_()方法时，应用会进入主循环，主循环会监听和分发事件。\n",
    "* PyQt5处理事件方面有个**signal and slot**机制(信号和槽机制)"
   ]
  },
  {
   "cell_type": "markdown",
   "metadata": {},
   "source": [
    "### Signals & slots"
   ]
  },
  {
   "cell_type": "code",
   "execution_count": null,
   "metadata": {
    "collapsed": true
   },
   "outputs": [],
   "source": [
    "#!/usr/bin/python3\n",
    "# -*- coding: utf-8 -*-\n",
    "import sys\n",
    "from PyQt5.QtCore import Qt\n",
    "from PyQt5.QtWidgets import (QWidget, QLCDNumber, QSlider, \n",
    "    QVBoxLayout, QApplication)\n",
    "\n",
    "class Example(QWidget):\n",
    "    \n",
    "    def __init__(self):\n",
    "        super().__init__()        \n",
    "        self.initUI()        \n",
    "        \n",
    "    def initUI(self):\n",
    "        \n",
    "        lcd = QLCDNumber(self)\n",
    "        sld = QSlider(Qt.Horizontal, self)\n",
    "\n",
    "        vbox = QVBoxLayout()\n",
    "        vbox.addWidget(lcd)\n",
    "        vbox.addWidget(sld)\n",
    "\n",
    "        self.setLayout(vbox)\n",
    "        sld.valueChanged.connect(lcd.display) # 把滑块的变化和数字的变化绑定在一起\n",
    "        \n",
    "        self.setGeometry(300, 300, 250, 150)\n",
    "        self.setWindowTitle('Signal and slot')\n",
    "        self.show()        \n",
    "\n",
    "if __name__ == '__main__':\n",
    "    \n",
    "    app = QApplication(sys.argv)\n",
    "    ex = Example()\n",
    "    sys.exit(app.exec_())"
   ]
  },
  {
   "cell_type": "markdown",
   "metadata": {},
   "source": [
    "### 重构事件处理器 \n",
    "在PyQt5中，事件处理器经常被重写（也就是用自己的覆盖库自带的）。"
   ]
  },
  {
   "cell_type": "code",
   "execution_count": 1,
   "metadata": {
    "collapsed": false
   },
   "outputs": [
    {
     "ename": "SystemExit",
     "evalue": "0",
     "output_type": "error",
     "traceback": [
      "An exception has occurred, use %tb to see the full traceback.\n",
      "\u001b[1;31mSystemExit\u001b[0m\u001b[1;31m:\u001b[0m 0\n"
     ]
    },
    {
     "name": "stderr",
     "output_type": "stream",
     "text": [
      "c:\\python37\\lib\\site-packages\\IPython\\core\\interactiveshell.py:3334: UserWarning: To exit: use 'exit', 'quit', or Ctrl-D.\n",
      "  warn(\"To exit: use 'exit', 'quit', or Ctrl-D.\", stacklevel=1)\n"
     ]
    }
   ],
   "source": [
    "#!/usr/bin/python3\n",
    "# -*- coding: utf-8 -*-\n",
    "\n",
    "\"\"\"\n",
    "ZetCode PyQt5 tutorial \n",
    "\n",
    "In this example, we reimplement an \n",
    "event handler. \n",
    "\n",
    "Author: Jan Bodnar\n",
    "Website: zetcode.com \n",
    "Last edited: August 2017\n",
    "\"\"\"\n",
    "\n",
    "import sys\n",
    "from PyQt5.QtCore import Qt\n",
    "from PyQt5.QtWidgets import QWidget, QApplication\n",
    "\n",
    "class Example(QWidget):\n",
    "    \n",
    "    def __init__(self):\n",
    "        super().__init__()\n",
    "        \n",
    "        self.initUI()\n",
    "        \n",
    "        \n",
    "    def initUI(self):      \n",
    "        \n",
    "        self.setGeometry(300, 300, 250, 150)\n",
    "        self.setWindowTitle('Event handler')\n",
    "        self.show()\n",
    "        \n",
    "    # 替换了事件处理器函数keyPressEvent()\n",
    "    def keyPressEvent(self, e):        \n",
    "        if e.key() == Qt.Key_Escape:\n",
    "            self.close()\n",
    "        \n",
    "        \n",
    "if __name__ == '__main__':\n",
    "    \n",
    "    app = QApplication(sys.argv)\n",
    "    ex = Example()\n",
    "    sys.exit(app.exec_())"
   ]
  },
  {
   "cell_type": "markdown",
   "metadata": {},
   "source": [
    "### 事件对象 \n",
    "用python来描述一系列的事件自身属性的对象"
   ]
  },
  {
   "cell_type": "code",
   "execution_count": 1,
   "metadata": {
    "collapsed": false
   },
   "outputs": [
    {
     "ename": "SystemExit",
     "evalue": "0",
     "output_type": "error",
     "traceback": [
      "An exception has occurred, use %tb to see the full traceback.\n",
      "\u001b[1;31mSystemExit\u001b[0m\u001b[1;31m:\u001b[0m 0\n"
     ]
    },
    {
     "name": "stderr",
     "output_type": "stream",
     "text": [
      "c:\\python37\\lib\\site-packages\\IPython\\core\\interactiveshell.py:3334: UserWarning: To exit: use 'exit', 'quit', or Ctrl-D.\n",
      "  warn(\"To exit: use 'exit', 'quit', or Ctrl-D.\", stacklevel=1)\n"
     ]
    }
   ],
   "source": [
    "#!/usr/bin/python3\n",
    "# -*- coding: utf-8 -*-\n",
    "\n",
    "\"\"\"\n",
    "显示鼠标的X和Y坐标\n",
    "\"\"\"\n",
    "\n",
    "import sys\n",
    "from PyQt5.QtCore import Qt\n",
    "from PyQt5.QtWidgets import QWidget, QApplication, QGridLayout, QLabel\n",
    "\n",
    "class Example(QWidget):\n",
    "    \n",
    "    def __init__(self):\n",
    "        super().__init__()\n",
    "        \n",
    "        self.initUI()\n",
    "        \n",
    "        \n",
    "    def initUI(self):      \n",
    "        \n",
    "        grid = QGridLayout()\n",
    "        grid.setSpacing(10)\n",
    "        \n",
    "        x = 0\n",
    "        y = 0\n",
    "        \n",
    "        # X Y坐标显示在QLabel组件里\n",
    "        self.text = \"x: {0},  y: {1}\".format(x, y)        \n",
    "        self.label = QLabel(self.text, self)\n",
    "        \n",
    "        grid.addWidget(self.label, 0, 0, Qt.AlignTop)\n",
    "        \n",
    "        # 事件追踪默认没有开启，当开启后才会追踪鼠标的点击事件。\n",
    "        self.setMouseTracking(True)\n",
    "        \n",
    "        self.setLayout(grid)\n",
    "        \n",
    "        self.setGeometry(300, 300, 350, 200)\n",
    "        self.setWindowTitle('Event object')\n",
    "        self.show()\n",
    "        \n",
    "        \n",
    "    def mouseMoveEvent(self, e):\n",
    "        \n",
    "        x = e.x()\n",
    "        y = e.y()\n",
    "        \n",
    "        text = \"x: {0},  y: {1}\".format(x, y)\n",
    "        self.label.setText(text)\n",
    "    \n",
    "        \n",
    "if __name__ == '__main__':\n",
    "    \n",
    "    app = QApplication(sys.argv)\n",
    "    ex = Example()\n",
    "    sys.exit(app.exec_())"
   ]
  },
  {
   "cell_type": "markdown",
   "metadata": {},
   "source": [
    "### 事件发送\n",
    "有时候我们会想知道是哪个组件发出了一个信号，PyQt5里的sender()方法能搞定这件事。"
   ]
  },
  {
   "cell_type": "code",
   "execution_count": 1,
   "metadata": {
    "collapsed": false
   },
   "outputs": [
    {
     "ename": "SystemExit",
     "evalue": "0",
     "output_type": "error",
     "traceback": [
      "An exception has occurred, use %tb to see the full traceback.\n",
      "\u001b[0;31mSystemExit\u001b[0m\u001b[0;31m:\u001b[0m 0\n"
     ]
    },
    {
     "name": "stderr",
     "output_type": "stream",
     "text": [
      "D:\\Anaconda\\lib\\site-packages\\IPython\\core\\interactiveshell.py:2889: UserWarning: To exit: use 'exit', 'quit', or Ctrl-D.\n",
      "  warn(\"To exit: use 'exit', 'quit', or Ctrl-D.\", stacklevel=1)\n"
     ]
    }
   ],
   "source": [
    "#!/usr/bin/python3\n",
    "# -*- coding: utf-8 -*-\n",
    "\n",
    "\"\"\"\n",
    "ZetCode PyQt5 tutorial \n",
    "\n",
    "In this example, we determine the event sender\n",
    "object.\n",
    "\n",
    "Author: Jan Bodnar\n",
    "Website: zetcode.com \n",
    "Last edited: August 2017\n",
    "\"\"\"\n",
    "\n",
    "import sys\n",
    "from PyQt5.QtWidgets import QMainWindow, QPushButton, QApplication\n",
    "\n",
    "\n",
    "class Example(QMainWindow):\n",
    "    \n",
    "    def __init__(self):\n",
    "        super().__init__()\n",
    "        \n",
    "        self.initUI()\n",
    "        \n",
    "        \n",
    "    def initUI(self):      \n",
    "\n",
    "        btn1 = QPushButton(\"Button 1\", self)\n",
    "        btn1.move(30, 50)\n",
    "\n",
    "        btn2 = QPushButton(\"Button 2\", self)\n",
    "        btn2.move(150, 50)\n",
    "      \n",
    "        btn1.clicked.connect(self.buttonClicked)            \n",
    "        btn2.clicked.connect(self.buttonClicked)\n",
    "        \n",
    "        self.statusBar()\n",
    "        \n",
    "        self.setGeometry(300, 300, 290, 150)\n",
    "        self.setWindowTitle('Event sender')\n",
    "        self.show()\n",
    "        \n",
    "    # buttonClicked()方法决定了是哪个按钮调用sender()方法。\n",
    "    def buttonClicked(self):\n",
    "      \n",
    "        sender = self.sender()\n",
    "        self.statusBar().showMessage(sender.text() + ' was pressed')\n",
    "        \n",
    "        \n",
    "if __name__ == '__main__':\n",
    "    \n",
    "    app = QApplication(sys.argv)\n",
    "    ex = Example()\n",
    "    sys.exit(app.exec_())"
   ]
  },
  {
   "cell_type": "markdown",
   "metadata": {},
   "source": [
    "### 信号发送 \n",
    "QObject实例能发送事件信号"
   ]
  },
  {
   "cell_type": "code",
   "execution_count": 1,
   "metadata": {
    "collapsed": false
   },
   "outputs": [
    {
     "ename": "SystemExit",
     "evalue": "0",
     "output_type": "error",
     "traceback": [
      "An exception has occurred, use %tb to see the full traceback.\n",
      "\u001b[0;31mSystemExit\u001b[0m\u001b[0;31m:\u001b[0m 0\n"
     ]
    },
    {
     "name": "stderr",
     "output_type": "stream",
     "text": [
      "D:\\Anaconda\\lib\\site-packages\\IPython\\core\\interactiveshell.py:2889: UserWarning: To exit: use 'exit', 'quit', or Ctrl-D.\n",
      "  warn(\"To exit: use 'exit', 'quit', or Ctrl-D.\", stacklevel=1)\n"
     ]
    }
   ],
   "source": [
    "#!/usr/bin/python3\n",
    "# -*- coding: utf-8 -*-\n",
    "'''\n",
    "创建了一个叫closeApp的信号，这个信号会在鼠标按下的时候触发，事件与QMainWindow绑定\n",
    "'''\n",
    "import sys\n",
    "from PyQt5.QtCore import pyqtSignal, QObject\n",
    "from PyQt5.QtWidgets import QMainWindow, QApplication\n",
    "\n",
    "# 创建一个pyqtSignal()属性的信号。\n",
    "class Communicate(QObject):\n",
    "    \n",
    "    closeApp = pyqtSignal() \n",
    "    \n",
    "class Example(QMainWindow):\n",
    "    \n",
    "    def __init__(self):\n",
    "        super().__init__()\n",
    "        \n",
    "        self.initUI()        \n",
    "        \n",
    "    def initUI(self):      \n",
    "        # closeApp信号QMainWindow的close()方法绑定\n",
    "        self.c = Communicate()\n",
    "        self.c.closeApp.connect(self.close)       \n",
    "        \n",
    "        self.setGeometry(300, 300, 290, 150)\n",
    "        self.setWindowTitle('Emit signal')\n",
    "        self.show() \n",
    "        \n",
    "    # 点击窗口的时候，发送closeApp信号，程序终止。\n",
    "    def mousePressEvent(self, event):\n",
    "        \n",
    "        self.c.closeApp.emit()\n",
    "                \n",
    "if __name__ == '__main__':\n",
    "    \n",
    "    app = QApplication(sys.argv)\n",
    "    ex = Example()\n",
    "    sys.exit(app.exec_())"
   ]
  },
  {
   "cell_type": "code",
   "execution_count": null,
   "metadata": {
    "collapsed": true
   },
   "outputs": [],
   "source": []
  },
  {
   "cell_type": "code",
   "execution_count": null,
   "metadata": {
    "collapsed": true
   },
   "outputs": [],
   "source": []
  }
 ],
 "metadata": {
  "anaconda-cloud": {},
  "kernelspec": {
   "display_name": "Python [default]",
   "language": "python",
   "name": "python3"
  },
  "language_info": {
   "codemirror_mode": {
    "name": "ipython",
    "version": 3
   },
   "file_extension": ".py",
   "mimetype": "text/x-python",
   "name": "python",
   "nbconvert_exporter": "python",
   "pygments_lexer": "ipython3",
   "version": "3.5.6"
  }
 },
 "nbformat": 4,
 "nbformat_minor": 2
}
