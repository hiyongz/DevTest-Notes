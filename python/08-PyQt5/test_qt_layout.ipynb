{
 "cells": [
  {
   "cell_type": "markdown",
   "metadata": {},
   "source": [
    "## 布局管理：管理应用中的元素和窗口\n",
    "绝对定位和PyQt5的layout类"
   ]
  },
  {
   "cell_type": "markdown",
   "metadata": {},
   "source": [
    "### 绝对定位"
   ]
  },
  {
   "cell_type": "code",
   "execution_count": 1,
   "metadata": {
    "collapsed": false
   },
   "outputs": [
    {
     "ename": "SystemExit",
     "evalue": "0",
     "output_type": "error",
     "traceback": [
      "An exception has occurred, use %tb to see the full traceback.\n",
      "\u001b[1;31mSystemExit\u001b[0m\u001b[1;31m:\u001b[0m 0\n"
     ]
    },
    {
     "name": "stderr",
     "output_type": "stream",
     "text": [
      "c:\\python37\\lib\\site-packages\\IPython\\core\\interactiveshell.py:3334: UserWarning: To exit: use 'exit', 'quit', or Ctrl-D.\n",
      "  warn(\"To exit: use 'exit', 'quit', or Ctrl-D.\", stacklevel=1)\n"
     ]
    }
   ],
   "source": [
    "#!/usr/bin/python3\n",
    "#-*- coding:utf-8 -*-\n",
    "import sys\n",
    "from PyQt5.QtWidgets import QWidget, QLabel, QApplication\n",
    "\n",
    "class Example(QWidget):\n",
    "\n",
    "    def __init__(self):\n",
    "        super().__init__()\n",
    "\n",
    "        self.initUI()\n",
    "\n",
    "\n",
    "    def initUI(self):\n",
    "\n",
    "        lbl1 = QLabel('Zetcode', self)\n",
    "        lbl1.move(15, 10) # 使用x，y坐标定位每一个元素\n",
    "\n",
    "        lbl2 = QLabel('tutorials', self)\n",
    "        lbl2.move(35, 40)\n",
    "\n",
    "        lbl3 = QLabel('for programmers', self)\n",
    "        lbl3.move(55, 70)        \n",
    "\n",
    "        self.setGeometry(300, 300, 250, 150)\n",
    "        self.setWindowTitle('Absolute')    \n",
    "        self.show()\n",
    "\n",
    "\n",
    "if __name__ == '__main__':\n",
    "\n",
    "    app = QApplication(sys.argv)\n",
    "    ex = Example()\n",
    "    sys.exit(app.exec_())"
   ]
  },
  {
   "cell_type": "markdown",
   "metadata": {},
   "source": [
    "### 盒布局 \n",
    "* 能让程序具有更强的适应性\n",
    "* HBoxLayout和QVBoxLayout是基本的布局类，分别是水平布局和垂直布局。"
   ]
  },
  {
   "cell_type": "code",
   "execution_count": 1,
   "metadata": {
    "collapsed": false
   },
   "outputs": [
    {
     "ename": "SystemExit",
     "evalue": "0",
     "output_type": "error",
     "traceback": [
      "An exception has occurred, use %tb to see the full traceback.\n",
      "\u001b[1;31mSystemExit\u001b[0m\u001b[1;31m:\u001b[0m 0\n"
     ]
    },
    {
     "name": "stderr",
     "output_type": "stream",
     "text": [
      "c:\\python37\\lib\\site-packages\\IPython\\core\\interactiveshell.py:3334: UserWarning: To exit: use 'exit', 'quit', or Ctrl-D.\n",
      "  warn(\"To exit: use 'exit', 'quit', or Ctrl-D.\", stacklevel=1)\n"
     ]
    }
   ],
   "source": [
    "#!/usr/bin/python3\n",
    "# -*- coding: utf-8 -*-\n",
    "\n",
    "\"\"\"\n",
    "ZetCode PyQt5 tutorial \n",
    "在应用的右下角放两个按钮求\n",
    "当改变窗口大小的时候，它们能依然保持在相对的位置\n",
    "\n",
    "\"\"\"\n",
    "\n",
    "import sys\n",
    "from PyQt5.QtWidgets import (QWidget, QPushButton, \n",
    "    QHBoxLayout, QVBoxLayout, QApplication)\n",
    "\n",
    "\n",
    "class Example(QWidget):\n",
    "\n",
    "    def __init__(self):\n",
    "        super().__init__()\n",
    "\n",
    "        self.initUI()\n",
    "\n",
    "\n",
    "    def initUI(self):\n",
    "\n",
    "        okButton = QPushButton(\"OK\")\n",
    "        cancelButton = QPushButton(\"Cancel\")\n",
    "        \n",
    "        # 创建一个水平布局，增加两个按钮和弹性空间\n",
    "        hbox = QHBoxLayout()\n",
    "        hbox.addStretch(1)  #增加弹性空间\n",
    "        hbox.addWidget(okButton)\n",
    "        hbox.addWidget(cancelButton)\n",
    "        \n",
    "        # 把这个水平布局放到了一个垂直布局盒里面，弹性元素会把所有的元素一起都放置在应用的右下角。\n",
    "        vbox = QVBoxLayout()\n",
    "        vbox.addStretch(1)\n",
    "        vbox.addLayout(hbox)\n",
    "\n",
    "        self.setLayout(vbox)    \n",
    "\n",
    "        self.setGeometry(300, 300, 300, 150)\n",
    "        self.setWindowTitle('Buttons')    \n",
    "        self.show()\n",
    "\n",
    "\n",
    "if __name__ == '__main__':\n",
    "\n",
    "    app = QApplication(sys.argv)\n",
    "    ex = Example()\n",
    "    sys.exit(app.exec_())"
   ]
  },
  {
   "cell_type": "markdown",
   "metadata": {},
   "source": [
    "### 栅格布局 \n",
    "* 栅格布局比较常用。这种布局是把窗口分为行和列。\n",
    "* 创建和使用栅格布局，需要使用QGridLayout模块。"
   ]
  },
  {
   "cell_type": "code",
   "execution_count": 1,
   "metadata": {
    "collapsed": false
   },
   "outputs": [
    {
     "ename": "SystemExit",
     "evalue": "0",
     "output_type": "error",
     "traceback": [
      "An exception has occurred, use %tb to see the full traceback.\n",
      "\u001b[1;31mSystemExit\u001b[0m\u001b[1;31m:\u001b[0m 0\n"
     ]
    },
    {
     "name": "stderr",
     "output_type": "stream",
     "text": [
      "c:\\python37\\lib\\site-packages\\IPython\\core\\interactiveshell.py:3334: UserWarning: To exit: use 'exit', 'quit', or Ctrl-D.\n",
      "  warn(\"To exit: use 'exit', 'quit', or Ctrl-D.\", stacklevel=1)\n"
     ]
    }
   ],
   "source": [
    "#!/usr/bin/python3\n",
    "# -*- coding: utf-8 -*-\n",
    "import sys\n",
    "from PyQt5.QtWidgets import (QWidget, QGridLayout, \n",
    "    QPushButton, QApplication)\n",
    "\n",
    "class Example(QWidget):\n",
    "\n",
    "    def __init__(self):\n",
    "        super().__init__()\n",
    "\n",
    "        self.initUI()\n",
    "\n",
    "    def initUI(self):\n",
    "        # 创建一个QGridLayout实例，并把它放到程序窗口里。\n",
    "        grid = QGridLayout()\n",
    "        self.setLayout(grid)\n",
    "\n",
    "        names = ['Cls', 'Bck', '', 'Close',\n",
    "                 '7', '8', '9', '/',\n",
    "                '4', '5', '6', '*',\n",
    "                 '1', '2', '3', '-',\n",
    "                '0', '.', '=', '+']\n",
    "        \n",
    "        # 创建按钮位置列表\n",
    "        positions = [(i,j) for i in range(5) for j in range(4)]\n",
    "\n",
    "        # 创建按钮，并使用addWidget()方法把按钮放到布局里面\n",
    "        for position, name in zip(positions, names):\n",
    "\n",
    "            if name == '':\n",
    "                continue\n",
    "            button = QPushButton(name)\n",
    "            grid.addWidget(button, *position)\n",
    "\n",
    "        self.move(300, 150)\n",
    "        self.setWindowTitle('Calculator')\n",
    "        self.show()\n",
    "\n",
    "if __name__ == '__main__':\n",
    "\n",
    "    app = QApplication(sys.argv)\n",
    "    ex = Example()\n",
    "    sys.exit(app.exec_())"
   ]
  },
  {
   "cell_type": "markdown",
   "metadata": {},
   "source": [
    "### 制作提交反馈信息的布局\n",
    "组件能跨列和跨行展示"
   ]
  },
  {
   "cell_type": "code",
   "execution_count": 1,
   "metadata": {
    "collapsed": false
   },
   "outputs": [
    {
     "ename": "SystemExit",
     "evalue": "0",
     "output_type": "error",
     "traceback": [
      "An exception has occurred, use %tb to see the full traceback.\n",
      "\u001b[1;31mSystemExit\u001b[0m\u001b[1;31m:\u001b[0m 0\n"
     ]
    },
    {
     "name": "stderr",
     "output_type": "stream",
     "text": [
      "c:\\python37\\lib\\site-packages\\IPython\\core\\interactiveshell.py:3334: UserWarning: To exit: use 'exit', 'quit', or Ctrl-D.\n",
      "  warn(\"To exit: use 'exit', 'quit', or Ctrl-D.\", stacklevel=1)\n"
     ]
    }
   ],
   "source": [
    "#!/usr/bin/python3\n",
    "# -*- coding: utf-8 -*-\n",
    "\n",
    "import sys\n",
    "from PyQt5.QtWidgets import (QWidget, QLabel, QLineEdit, \n",
    "    QTextEdit, QGridLayout, QApplication)\n",
    "\n",
    "class Example(QWidget):\n",
    "\n",
    "    def __init__(self):\n",
    "        super().__init__()\n",
    "\n",
    "        self.initUI()\n",
    "\n",
    "\n",
    "    def initUI(self):\n",
    "\n",
    "        title = QLabel('Title')\n",
    "        author = QLabel('Author')\n",
    "        review = QLabel('Review')\n",
    "\n",
    "        titleEdit = QLineEdit()\n",
    "        authorEdit = QLineEdit()\n",
    "        reviewEdit = QTextEdit()\n",
    "\n",
    "        grid = QGridLayout()\n",
    "        grid.setSpacing(10) # 创建标签之间的空间。\n",
    "\n",
    "        grid.addWidget(title, 1, 0)\n",
    "        grid.addWidget(titleEdit, 1, 1)\n",
    "\n",
    "        grid.addWidget(author, 2, 0)\n",
    "        grid.addWidget(authorEdit, 2, 1)\n",
    "\n",
    "        grid.addWidget(review, 3, 0)\n",
    "        grid.addWidget(reviewEdit, 3, 1, 5, 1) # 指定组件的跨行和跨列的大小。这里我们指定这个元素跨5行显示。\n",
    "\n",
    "        self.setLayout(grid) \n",
    "\n",
    "        self.setGeometry(300, 300, 350, 300)\n",
    "        self.setWindowTitle('Review')    \n",
    "        self.show()\n",
    "\n",
    "\n",
    "if __name__ == '__main__':\n",
    "\n",
    "    app = QApplication(sys.argv)\n",
    "    ex = Example()\n",
    "    sys.exit(app.exec_())"
   ]
  },
  {
   "cell_type": "code",
   "execution_count": null,
   "metadata": {
    "collapsed": true
   },
   "outputs": [],
   "source": []
  },
  {
   "cell_type": "code",
   "execution_count": null,
   "metadata": {
    "collapsed": true
   },
   "outputs": [],
   "source": []
  }
 ],
 "metadata": {
  "kernelspec": {
   "display_name": "Python [default]",
   "language": "python",
   "name": "python3"
  },
  "language_info": {
   "codemirror_mode": {
    "name": "ipython",
    "version": 3
   },
   "file_extension": ".py",
   "mimetype": "text/x-python",
   "name": "python",
   "nbconvert_exporter": "python",
   "pygments_lexer": "ipython3",
   "version": "3.5.6"
  }
 },
 "nbformat": 4,
 "nbformat_minor": 2
}
