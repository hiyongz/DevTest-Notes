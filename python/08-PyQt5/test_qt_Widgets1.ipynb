{
 "cells": [
  {
   "cell_type": "markdown",
   "metadata": {},
   "source": [
    "## 控件\n",
    "* PyQt5控件：按钮，单选框，滑动条，复选框等等\n",
    "* QCheckBox，ToggleButton，QSlider，QProgressBar和QCalendarWidget"
   ]
  },
  {
   "cell_type": "markdown",
   "metadata": {},
   "source": [
    "### QCheckBox \n",
    "CheckBox组件有俩状态：开和关。通常跟标签一起使用，用在激活和关闭一些选项的场景。"
   ]
  },
  {
   "cell_type": "code",
   "execution_count": 1,
   "metadata": {
    "collapsed": false
   },
   "outputs": [
    {
     "ename": "SystemExit",
     "evalue": "0",
     "output_type": "error",
     "traceback": [
      "An exception has occurred, use %tb to see the full traceback.\n",
      "\u001b[1;31mSystemExit\u001b[0m\u001b[1;31m:\u001b[0m 0\n"
     ]
    },
    {
     "name": "stderr",
     "output_type": "stream",
     "text": [
      "c:\\python37\\lib\\site-packages\\IPython\\core\\interactiveshell.py:3334: UserWarning: To exit: use 'exit', 'quit', or Ctrl-D.\n",
      "  warn(\"To exit: use 'exit', 'quit', or Ctrl-D.\", stacklevel=1)\n"
     ]
    }
   ],
   "source": [
    "#!/usr/bin/python3\n",
    "# -*- coding: utf-8 -*-\n",
    "\n",
    "\"\"\"\n",
    "ZetCode PyQt5 tutorial \n",
    "\n",
    "In this example, a QCheckBox widget\n",
    "is used to toggle the title of a window.\n",
    "\n",
    "Author: Jan Bodnar\n",
    "Website: zetcode.com \n",
    "Last edited: August 2017\n",
    "\"\"\"\n",
    "\n",
    "from PyQt5.QtWidgets import QWidget, QCheckBox, QApplication\n",
    "from PyQt5.QtCore import Qt\n",
    "import sys\n",
    "\n",
    "class Example(QWidget):\n",
    "    \n",
    "    def __init__(self):\n",
    "        super().__init__()\n",
    "        \n",
    "        self.initUI()\n",
    "        \n",
    "        \n",
    "    def initUI(self):      \n",
    "\n",
    "        cb = QCheckBox('Show title', self)# QCheckBox的构造器\n",
    "        cb.move(20, 20)\n",
    "        cb.toggle() # 要设置窗口标题，我们就要检查单选框的状态。默认情况下，窗口没有标题，单选框未选中。\n",
    "        cb.stateChanged.connect(self.changeTitle) # 把changeTitle()方法和stateChanged信号关联起来\n",
    "        \n",
    "        self.setGeometry(300, 300, 250, 150)\n",
    "        self.setWindowTitle('QCheckBox')\n",
    "        self.show()\n",
    "        \n",
    "        \n",
    "    def changeTitle(self, state):\n",
    "      \n",
    "        if state == Qt.Checked:\n",
    "            self.setWindowTitle('QCheckBox')\n",
    "        else:\n",
    "            self.setWindowTitle(' ')\n",
    "            \n",
    "        \n",
    "if __name__ == '__main__':\n",
    "    \n",
    "    app = QApplication(sys.argv)\n",
    "    ex = Example()\n",
    "    sys.exit(app.exec_())"
   ]
  },
  {
   "cell_type": "markdown",
   "metadata": {},
   "source": [
    "### 切换按钮\n",
    "切换按钮就是QPushButton的一种特殊模式。 它只有两种状态：按下和未按下"
   ]
  },
  {
   "cell_type": "code",
   "execution_count": 1,
   "metadata": {
    "collapsed": false
   },
   "outputs": [
    {
     "ename": "SystemExit",
     "evalue": "0",
     "output_type": "error",
     "traceback": [
      "An exception has occurred, use %tb to see the full traceback.\n",
      "\u001b[1;31mSystemExit\u001b[0m\u001b[1;31m:\u001b[0m 0\n"
     ]
    },
    {
     "name": "stderr",
     "output_type": "stream",
     "text": [
      "c:\\python37\\lib\\site-packages\\IPython\\core\\interactiveshell.py:3334: UserWarning: To exit: use 'exit', 'quit', or Ctrl-D.\n",
      "  warn(\"To exit: use 'exit', 'quit', or Ctrl-D.\", stacklevel=1)\n"
     ]
    }
   ],
   "source": [
    "#!/usr/bin/python3\n",
    "# -*- coding: utf-8 -*-\n",
    "\n",
    "\"\"\"\n",
    "ZetCode PyQt5 tutorial \n",
    "\n",
    "In this example, we create three toggle buttons.\n",
    "They will control the background color of a \n",
    "QFrame. \n",
    "\n",
    "Author: Jan Bodnar\n",
    "Website: zetcode.com \n",
    "Last edited: August 2017\n",
    "\"\"\"\n",
    "\n",
    "from PyQt5.QtWidgets import (QWidget, QPushButton, \n",
    "    QFrame, QApplication)\n",
    "from PyQt5.QtGui import QColor\n",
    "import sys\n",
    "\n",
    "class Example(QWidget):\n",
    "    \n",
    "    def __init__(self):\n",
    "        super().__init__()\n",
    "        \n",
    "        self.initUI()\n",
    "        \n",
    "        \n",
    "    def initUI(self):      \n",
    "\n",
    "        self.col = QColor(0, 0, 0)# 设置颜色为黑色\n",
    "        redb = QPushButton('Red', self)\n",
    "        # setCheckable()方法把这个按钮变成切换按钮\n",
    "        redb.setCheckable(True)\n",
    "        redb.move(10, 10)\n",
    "        \n",
    "        # 把点击信号和我们定义好的函数关联起来，这里是把点击事件转换成布尔值。\n",
    "        redb.clicked[bool].connect(self.setColor)\n",
    "\n",
    "        greenb = QPushButton('Green', self)\n",
    "        greenb.setCheckable(True)\n",
    "        greenb.move(10, 60)\n",
    "\n",
    "        greenb.clicked[bool].connect(self.setColor)\n",
    "\n",
    "        blueb = QPushButton('Blue', self)\n",
    "        blueb.setCheckable(True)\n",
    "        blueb.move(10, 110)\n",
    "\n",
    "        blueb.clicked[bool].connect(self.setColor)\n",
    "\n",
    "        self.square = QFrame(self)\n",
    "        self.square.setGeometry(150, 20, 100, 100)\n",
    "        self.square.setStyleSheet(\"QWidget { background-color: %s }\" %  \n",
    "            self.col.name())\n",
    "        \n",
    "        self.setGeometry(300, 300, 280, 170)\n",
    "        self.setWindowTitle('Toggle button')\n",
    "        self.show()\n",
    "        \n",
    "        \n",
    "    def setColor(self, pressed):\n",
    "        \n",
    "        source = self.sender()# 获取被点击的按钮\n",
    "        \n",
    "        if pressed:\n",
    "            val = 255\n",
    "        else: val = 0\n",
    "                        \n",
    "        if source.text() == \"Red\":\n",
    "            self.col.setRed(val)                \n",
    "        elif source.text() == \"Green\":\n",
    "            self.col.setGreen(val)             \n",
    "        else:\n",
    "            self.col.setBlue(val) \n",
    "            \n",
    "        self.square.setStyleSheet(\"QFrame { background-color: %s }\" %\n",
    "            self.col.name())  \n",
    "       \n",
    "       \n",
    "if __name__ == '__main__':\n",
    "    \n",
    "    app = QApplication(sys.argv)\n",
    "    ex = Example()\n",
    "    sys.exit(app.exec_())"
   ]
  },
  {
   "cell_type": "markdown",
   "metadata": {},
   "source": [
    "### 滑块 \n",
    "QSlider是个有一个小滑块的组件，这个小滑块能拖着前后滑动，这个经常用于修改一些具有范围的数值"
   ]
  },
  {
   "cell_type": "code",
   "execution_count": 1,
   "metadata": {
    "collapsed": false
   },
   "outputs": [
    {
     "ename": "SystemExit",
     "evalue": "0",
     "output_type": "error",
     "traceback": [
      "An exception has occurred, use %tb to see the full traceback.\n",
      "\u001b[1;31mSystemExit\u001b[0m\u001b[1;31m:\u001b[0m 0\n"
     ]
    },
    {
     "name": "stderr",
     "output_type": "stream",
     "text": [
      "c:\\python37\\lib\\site-packages\\IPython\\core\\interactiveshell.py:3334: UserWarning: To exit: use 'exit', 'quit', or Ctrl-D.\n",
      "  warn(\"To exit: use 'exit', 'quit', or Ctrl-D.\", stacklevel=1)\n"
     ]
    }
   ],
   "source": [
    "#!/usr/bin/python3\n",
    "# -*- coding: utf-8 -*-\n",
    "\n",
    "\"\"\"\n",
    "ZetCode PyQt5 tutorial \n",
    "\n",
    "This example shows a QSlider widget.\n",
    "\n",
    "Author: Jan Bodnar\n",
    "Website: zetcode.com \n",
    "Last edited: August 2017\n",
    "\"\"\"\n",
    "\n",
    "from PyQt5.QtWidgets import (QWidget, QSlider, \n",
    "    QLabel, QApplication)\n",
    "from PyQt5.QtCore import Qt\n",
    "from PyQt5.QtGui import QPixmap\n",
    "import sys\n",
    "\n",
    "class Example(QWidget):\n",
    "    \n",
    "    def __init__(self):\n",
    "        super().__init__()\n",
    "        \n",
    "        self.initUI()\n",
    "        \n",
    "        \n",
    "    def initUI(self):      \n",
    "        # 创建一个水平的QSlider\n",
    "        sld = QSlider(Qt.Horizontal, self)\n",
    "        sld.setFocusPolicy(Qt.NoFocus)\n",
    "        sld.setGeometry(30, 40, 100, 30)\n",
    "        # 把valueChanged信号跟changeValue()方法关联起来。\n",
    "        sld.valueChanged[int].connect(self.changeValue)\n",
    "        \n",
    "        # 创建一个QLabel组件并给它设置一个静音图标\n",
    "        self.label = QLabel(self)\n",
    "        self.label.setPixmap(QPixmap('mute.png'))\n",
    "        self.label.setGeometry(160, 40, 80, 30)\n",
    "        \n",
    "        self.setGeometry(300, 300, 280, 170)\n",
    "        self.setWindowTitle('QSlider')\n",
    "        self.show()\n",
    "        \n",
    "        \n",
    "    def changeValue(self, value):\n",
    "\n",
    "        if value == 0:\n",
    "            self.label.setPixmap(QPixmap('mute.png'))\n",
    "        elif value > 0 and value <= 30:\n",
    "            self.label.setPixmap(QPixmap('min.png'))\n",
    "        elif value > 30 and value < 80:\n",
    "            self.label.setPixmap(QPixmap('med.png'))\n",
    "        else:\n",
    "            self.label.setPixmap(QPixmap('max.png'))\n",
    "            \n",
    "\n",
    "if __name__ == '__main__':\n",
    "\n",
    "    app = QApplication(sys.argv)\n",
    "    ex = Example()\n",
    "    sys.exit(app.exec_())"
   ]
  },
  {
   "cell_type": "markdown",
   "metadata": {},
   "source": [
    "### 进度条 \n",
    "QProgressBar组件提供了水平和垂直两种进度条，进度条可以设置最大值和最小值，默认情况是0~99"
   ]
  },
  {
   "cell_type": "code",
   "execution_count": 1,
   "metadata": {
    "collapsed": false
   },
   "outputs": [
    {
     "ename": "SystemExit",
     "evalue": "0",
     "output_type": "error",
     "traceback": [
      "An exception has occurred, use %tb to see the full traceback.\n",
      "\u001b[1;31mSystemExit\u001b[0m\u001b[1;31m:\u001b[0m 0\n"
     ]
    },
    {
     "name": "stderr",
     "output_type": "stream",
     "text": [
      "c:\\python37\\lib\\site-packages\\IPython\\core\\interactiveshell.py:3334: UserWarning: To exit: use 'exit', 'quit', or Ctrl-D.\n",
      "  warn(\"To exit: use 'exit', 'quit', or Ctrl-D.\", stacklevel=1)\n"
     ]
    }
   ],
   "source": [
    "#!/usr/bin/python3\n",
    "# -*- coding: utf-8 -*-\n",
    "\n",
    "\"\"\"\n",
    "ZetCode PyQt5 tutorial \n",
    "\n",
    "This example shows a QProgressBar widget.\n",
    "\n",
    "Author: Jan Bodnar\n",
    "Website: zetcode.com \n",
    "Last edited: August 2017\n",
    "\"\"\"\n",
    "\n",
    "from PyQt5.QtWidgets import (QWidget, QProgressBar, \n",
    "    QPushButton, QApplication)\n",
    "from PyQt5.QtCore import QBasicTimer\n",
    "import sys\n",
    "\n",
    "class Example(QWidget):\n",
    "    \n",
    "    def __init__(self):\n",
    "        super().__init__()\n",
    "        \n",
    "        self.initUI()\n",
    "        \n",
    "        \n",
    "    def initUI(self):      \n",
    "        # 新建一个QProgressBar构造器\n",
    "        self.pbar = QProgressBar(self)\n",
    "        self.pbar.setGeometry(30, 40, 200, 25)\n",
    "\n",
    "        self.btn = QPushButton('Start', self)\n",
    "        self.btn.move(40, 80)\n",
    "        self.btn.clicked.connect(self.doAction)\n",
    "\n",
    "        # 用时间控制进度条\n",
    "        self.timer = QBasicTimer()\n",
    "        self.step = 0\n",
    "        \n",
    "        self.setGeometry(300, 300, 280, 170)\n",
    "        self.setWindowTitle('QProgressBar')\n",
    "        self.show()\n",
    "        \n",
    "        \n",
    "    def timerEvent(self, e):\n",
    "      \n",
    "        if self.step >= 100:\n",
    "            self.timer.stop()\n",
    "            self.btn.setText('Finished')\n",
    "            return\n",
    "            \n",
    "        self.step = self.step + 1\n",
    "        self.pbar.setValue(self.step)\n",
    "        \n",
    "\n",
    "    def doAction(self):\n",
    "      \n",
    "        if self.timer.isActive():\n",
    "            self.timer.stop()\n",
    "            self.btn.setText('Start')\n",
    "        else:\n",
    "            self.timer.start(100, self)# 调用start()方法加载一个时间事件。这个方法有两个参数：过期时间和事件接收者\n",
    "            self.btn.setText('Stop')\n",
    "            \n",
    "        \n",
    "if __name__ == '__main__':\n",
    "    \n",
    "    app = QApplication(sys.argv)\n",
    "    ex = Example()\n",
    "    sys.exit(app.exec_())"
   ]
  },
  {
   "cell_type": "markdown",
   "metadata": {},
   "source": [
    "### 日历 \n",
    "QCalendarWidget提供了基于月份的日历插件，十分简易而且直观。"
   ]
  },
  {
   "cell_type": "code",
   "execution_count": 1,
   "metadata": {
    "collapsed": false
   },
   "outputs": [
    {
     "ename": "SystemExit",
     "evalue": "0",
     "output_type": "error",
     "traceback": [
      "An exception has occurred, use %tb to see the full traceback.\n",
      "\u001b[1;31mSystemExit\u001b[0m\u001b[1;31m:\u001b[0m 0\n"
     ]
    },
    {
     "name": "stderr",
     "output_type": "stream",
     "text": [
      "c:\\python37\\lib\\site-packages\\IPython\\core\\interactiveshell.py:3334: UserWarning: To exit: use 'exit', 'quit', or Ctrl-D.\n",
      "  warn(\"To exit: use 'exit', 'quit', or Ctrl-D.\", stacklevel=1)\n"
     ]
    }
   ],
   "source": [
    "#!/usr/bin/python3\n",
    "# -*- coding: utf-8 -*-\n",
    "\n",
    "\"\"\"\n",
    "ZetCode PyQt5 tutorial \n",
    "\n",
    "This example shows a QCalendarWidget widget.\n",
    "\n",
    "Author: Jan Bodnar\n",
    "Website: zetcode.com \n",
    "Last edited: August 2017\n",
    "\"\"\"\n",
    "\n",
    "from PyQt5.QtWidgets import (QWidget, QCalendarWidget, \n",
    "    QLabel, QApplication, QVBoxLayout)\n",
    "from PyQt5.QtCore import QDate\n",
    "import sys\n",
    "\n",
    "class Example(QWidget):\n",
    "    \n",
    "    def __init__(self):\n",
    "        super().__init__()\n",
    "        \n",
    "        self.initUI()\n",
    "        \n",
    "        \n",
    "    def initUI(self):      \n",
    "        \n",
    "        vbox = QVBoxLayout(self)\n",
    "\n",
    "        cal = QCalendarWidget(self)\n",
    "        cal.setGridVisible(True)\n",
    "        cal.clicked[QDate].connect(self.showDate)# 选择一个日期时，QDate的点击信号就触发了，把这个信号和我们自己定义的showDate()方法关联起来\n",
    "        \n",
    "        vbox.addWidget(cal)\n",
    "        \n",
    "        self.lbl = QLabel(self)\n",
    "        date = cal.selectedDate()\n",
    "        self.lbl.setText(date.toString())\n",
    "        \n",
    "        vbox.addWidget(self.lbl)\n",
    "        \n",
    "        self.setLayout(vbox)\n",
    "        \n",
    "        self.setGeometry(300, 300, 350, 300)\n",
    "        self.setWindowTitle('Calendar')\n",
    "        self.show()\n",
    "        \n",
    "    # 使用selectedDate()方法获取选中的日期，然后把日期对象转成字符串，在标签里面显示出来。\n",
    "    def showDate(self, date):     \n",
    "        \n",
    "        self.lbl.setText(date.toString())\n",
    "        \n",
    "        \n",
    "if __name__ == '__main__':\n",
    "    \n",
    "    app = QApplication(sys.argv)\n",
    "    ex = Example()\n",
    "    sys.exit(app.exec_())"
   ]
  },
  {
   "cell_type": "code",
   "execution_count": null,
   "metadata": {
    "collapsed": true
   },
   "outputs": [],
   "source": []
  }
 ],
 "metadata": {
  "anaconda-cloud": {},
  "kernelspec": {
   "display_name": "Python [default]",
   "language": "python",
   "name": "python3"
  },
  "language_info": {
   "codemirror_mode": {
    "name": "ipython",
    "version": 3
   },
   "file_extension": ".py",
   "mimetype": "text/x-python",
   "name": "python",
   "nbconvert_exporter": "python",
   "pygments_lexer": "ipython3",
   "version": "3.5.6"
  }
 },
 "nbformat": 4,
 "nbformat_minor": 2
}
