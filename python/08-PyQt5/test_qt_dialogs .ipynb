{
 "cells": [
  {
   "cell_type": "markdown",
   "metadata": {},
   "source": [
    "## 对话框 \n",
    "对话框用来输入数据，修改数据，修改应用设置等等。"
   ]
  },
  {
   "cell_type": "markdown",
   "metadata": {},
   "source": [
    "### 输入文字 \n",
    "QInputDialog提供了一个简单方便的对话框，可以输入字符串，数字或列表。"
   ]
  },
  {
   "cell_type": "code",
   "execution_count": null,
   "metadata": {
    "collapsed": false
   },
   "outputs": [],
   "source": [
    "#!/usr/bin/python3\n",
    "# -*- coding: utf-8 -*-\n",
    "\n",
    "\"\"\"\n",
    "点击按钮显示对话框，输入的文本会显示在输入框里。\n",
    "\"\"\"\n",
    "\n",
    "from PyQt5.QtWidgets import (QWidget, QPushButton, QLineEdit, \n",
    "    QInputDialog, QApplication)\n",
    "import sys\n",
    "\n",
    "class Example(QWidget):\n",
    "\n",
    "    def __init__(self):\n",
    "        super().__init__()\n",
    "        \n",
    "        self.initUI()\n",
    "        \n",
    "        \n",
    "    def initUI(self):\n",
    "\n",
    "        self.btn = QPushButton('Dialog', self)\n",
    "        self.btn.clicked.connect(self.showDialog)\n",
    "        \n",
    "        self.le = QLineEdit(self)\n",
    "        self.le.move(130, 22)\n",
    "        \n",
    "        self.setGeometry(300, 300, 290, 150)\n",
    "        self.setWindowTitle('Input dialog')\n",
    "        self.show()\n",
    "        \n",
    "    # 这是显示一个输入框的代码。第一个参数是输入框的标题，第二个参数是输入框的占位符。\n",
    "    # 对话框返回输入内容和一个布尔值，如果点击的是OK按钮，布尔值就返回True。\n",
    "    def showDialog(self):        \n",
    "        text, ok = QInputDialog.getText(self, 'Input Dialog', \n",
    "            'Enter your name:')\n",
    "        \n",
    "        if ok:\n",
    "            self.le.setText(str(text))\n",
    "        \n",
    "        \n",
    "if __name__ == '__main__':\n",
    "    \n",
    "    app = QApplication(sys.argv)\n",
    "    ex = Example()\n",
    "    sys.exit(app.exec_())"
   ]
  },
  {
   "cell_type": "markdown",
   "metadata": {},
   "source": [
    "### 选取颜色 \n",
    "QColorDialog提供颜色的选择。"
   ]
  },
  {
   "cell_type": "code",
   "execution_count": 1,
   "metadata": {
    "collapsed": false
   },
   "outputs": [
    {
     "ename": "SystemExit",
     "evalue": "0",
     "output_type": "error",
     "traceback": [
      "An exception has occurred, use %tb to see the full traceback.\n",
      "\u001b[1;31mSystemExit\u001b[0m\u001b[1;31m:\u001b[0m 0\n"
     ]
    },
    {
     "name": "stderr",
     "output_type": "stream",
     "text": [
      "c:\\python37\\lib\\site-packages\\IPython\\core\\interactiveshell.py:3334: UserWarning: To exit: use 'exit', 'quit', or Ctrl-D.\n",
      "  warn(\"To exit: use 'exit', 'quit', or Ctrl-D.\", stacklevel=1)\n"
     ]
    }
   ],
   "source": [
    "#!/usr/bin/python3\n",
    "# -*- coding: utf-8 -*-\n",
    "\n",
    "\"\"\"\n",
    "ZetCode PyQt5 tutorial \n",
    "\n",
    "In this example, we select a color value\n",
    "from the QColorDialog and change the background\n",
    "color of a QFrame widget. \n",
    "\n",
    "Author: Jan Bodnar\n",
    "Website: zetcode.com \n",
    "Last edited: August 2017\n",
    "\"\"\"\n",
    "\n",
    "from PyQt5.QtWidgets import (QWidget, QPushButton, QFrame, \n",
    "    QColorDialog, QApplication)\n",
    "from PyQt5.QtGui import QColor\n",
    "import sys\n",
    "\n",
    "class Example(QWidget):    \n",
    "    def __init__(self):\n",
    "        super().__init__()\n",
    "        \n",
    "        self.initUI()        \n",
    "        \n",
    "    def initUI(self):     \n",
    "\n",
    "        col = QColor(0, 0, 0) # 初始化QtGui.QFrame的背景颜色\n",
    "\n",
    "        self.btn = QPushButton('Dialog', self)\n",
    "        self.btn.move(20, 20)\n",
    "\n",
    "        self.btn.clicked.connect(self.showDialog)\n",
    "\n",
    "        self.frm = QFrame(self)\n",
    "        self.frm.setStyleSheet(\"QWidget { background-color: %s }\" \n",
    "            % col.name())\n",
    "        self.frm.setGeometry(130, 22, 100, 100)            \n",
    "        \n",
    "        self.setGeometry(300, 300, 250, 180)\n",
    "        self.setWindowTitle('Color dialog')\n",
    "        self.show()        \n",
    "        \n",
    "    def showDialog(self):\n",
    "        # 弹出一个QColorDialog对话框。\n",
    "        col = QColorDialog.getColor()\n",
    "        # 我们可以预览颜色，如果点击取消按钮，没有颜色值返回，\n",
    "        # 如果颜色是我们想要的，就从取色框里选择这个颜色\n",
    "        if col.isValid():\n",
    "            self.frm.setStyleSheet(\"QWidget { background-color: %s }\"\n",
    "                % col.name())            \n",
    "        \n",
    "if __name__ == '__main__':\n",
    "    \n",
    "    app = QApplication(sys.argv)\n",
    "    ex = Example()\n",
    "    sys.exit(app.exec_())"
   ]
  },
  {
   "cell_type": "markdown",
   "metadata": {},
   "source": [
    "### 选择字体 \n",
    "QFontDialog能做字体的选择。"
   ]
  },
  {
   "cell_type": "code",
   "execution_count": 1,
   "metadata": {
    "collapsed": false
   },
   "outputs": [
    {
     "ename": "SystemExit",
     "evalue": "0",
     "output_type": "error",
     "traceback": [
      "An exception has occurred, use %tb to see the full traceback.\n",
      "\u001b[1;31mSystemExit\u001b[0m\u001b[1;31m:\u001b[0m 0\n"
     ]
    },
    {
     "name": "stderr",
     "output_type": "stream",
     "text": [
      "c:\\python37\\lib\\site-packages\\IPython\\core\\interactiveshell.py:3334: UserWarning: To exit: use 'exit', 'quit', or Ctrl-D.\n",
      "  warn(\"To exit: use 'exit', 'quit', or Ctrl-D.\", stacklevel=1)\n"
     ]
    }
   ],
   "source": [
    "#!/usr/bin/python3\n",
    "# -*- coding: utf-8 -*-\n",
    "\n",
    "\"\"\"\n",
    "修改字体\n",
    "\"\"\"\n",
    "\n",
    "from PyQt5.QtWidgets import (QWidget, QVBoxLayout, QPushButton, \n",
    "    QSizePolicy, QLabel, QFontDialog, QApplication)\n",
    "import sys\n",
    "\n",
    "class Example(QWidget):\n",
    "    \n",
    "    def __init__(self):\n",
    "        super().__init__()\n",
    "        \n",
    "        self.initUI()\n",
    "        \n",
    "        \n",
    "    def initUI(self):      \n",
    "\n",
    "        vbox = QVBoxLayout()\n",
    "\n",
    "        btn = QPushButton('Dialog', self)\n",
    "        btn.setSizePolicy(QSizePolicy.Fixed,\n",
    "            QSizePolicy.Fixed)\n",
    "        \n",
    "        btn.move(20, 20)\n",
    "\n",
    "        vbox.addWidget(btn)\n",
    "\n",
    "        btn.clicked.connect(self.showDialog)\n",
    "        \n",
    "        self.lbl = QLabel('Knowledge only matters', self)\n",
    "        self.lbl.move(130, 20)\n",
    "\n",
    "        vbox.addWidget(self.lbl)\n",
    "        self.setLayout(vbox)          \n",
    "        \n",
    "        self.setGeometry(300, 300, 250, 180)\n",
    "        self.setWindowTitle('Font dialog')\n",
    "        self.show()\n",
    "        \n",
    "        \n",
    "    def showDialog(self):\n",
    "        # 弹出一个字体选择对话框。\n",
    "        # getFont()方法返回一个字体名称和状态信息。状态信息有OK和其他两种。\n",
    "        font, ok = QFontDialog.getFont()\n",
    "        if ok:\n",
    "            self.lbl.setFont(font)\n",
    "        \n",
    "        \n",
    "if __name__ == '__main__':\n",
    "    \n",
    "    app = QApplication(sys.argv)\n",
    "    ex = Example()\n",
    "    sys.exit(app.exec_())"
   ]
  },
  {
   "cell_type": "markdown",
   "metadata": {},
   "source": [
    "### 选择文件 \n",
    "QFileDialog给用户提供文件或者文件夹选择的功能。能打开和保存文件"
   ]
  },
  {
   "cell_type": "code",
   "execution_count": null,
   "metadata": {
    "collapsed": true
   },
   "outputs": [],
   "source": [
    "#!/usr/bin/python3\n",
    "# -*- coding: utf-8 -*-\n",
    "\n",
    "\"\"\"\n",
    "ZetCode PyQt5 tutorial \n",
    "\n",
    "In this example, we select a file with a\n",
    "QFileDialog and display its contents\n",
    "in a QTextEdit.\n",
    "\n",
    "Author: Jan Bodnar\n",
    "Website: zetcode.com \n",
    "Last edited: August 2017\n",
    "\"\"\"\n",
    "\n",
    "from PyQt5.QtWidgets import (QMainWindow, QTextEdit, \n",
    "    QAction, QFileDialog, QApplication)\n",
    "from PyQt5.QtGui import QIcon\n",
    "import sys\n",
    "\n",
    "class Example(QMainWindow): # 这里设置了一个文本编辑框，文本编辑框是基于QMainWindow组件的。\n",
    "    \n",
    "    def __init__(self):\n",
    "        super().__init__()\n",
    "        \n",
    "        self.initUI()\n",
    "        \n",
    "        \n",
    "    def initUI(self):      \n",
    "\n",
    "        self.textEdit = QTextEdit()\n",
    "        self.setCentralWidget(self.textEdit)\n",
    "        self.statusBar()\n",
    "\n",
    "        openFile = QAction(QIcon('open.png'), 'Open', self)\n",
    "        openFile.setShortcut('Ctrl+O')\n",
    "        openFile.setStatusTip('Open new File')\n",
    "        openFile.triggered.connect(self.showDialog)\n",
    "\n",
    "        menubar = self.menuBar()\n",
    "        fileMenu = menubar.addMenu('&File')\n",
    "        fileMenu.addAction(openFile)       \n",
    "        \n",
    "        self.setGeometry(300, 300, 350, 300)\n",
    "        self.setWindowTitle('File dialog')\n",
    "        self.show()\n",
    "        \n",
    "        \n",
    "    def showDialog(self):\n",
    "        # getOpenFileName()方法的第一个参数是说明文字，第二个参数是默认打开的文件夹路径\n",
    "        fname = QFileDialog.getOpenFileName(self, 'Open file', '/home')\n",
    "\n",
    "        if fname[0]:\n",
    "            f = open(fname[0], 'r')\n",
    "\n",
    "            with f:\n",
    "                data = f.read()\n",
    "                self.textEdit.setText(data)        \n",
    "        \n",
    "if __name__ == '__main__':\n",
    "    \n",
    "    app = QApplication(sys.argv)\n",
    "    ex = Example()\n",
    "    sys.exit(app.exec_())"
   ]
  },
  {
   "cell_type": "code",
   "execution_count": null,
   "metadata": {
    "collapsed": true
   },
   "outputs": [],
   "source": []
  },
  {
   "cell_type": "code",
   "execution_count": null,
   "metadata": {
    "collapsed": true
   },
   "outputs": [],
   "source": []
  }
 ],
 "metadata": {
  "kernelspec": {
   "display_name": "Python [default]",
   "language": "python",
   "name": "python3"
  },
  "language_info": {
   "codemirror_mode": {
    "name": "ipython",
    "version": 3
   },
   "file_extension": ".py",
   "mimetype": "text/x-python",
   "name": "python",
   "nbconvert_exporter": "python",
   "pygments_lexer": "ipython3",
   "version": "3.5.6"
  }
 },
 "nbformat": 4,
 "nbformat_minor": 2
}
