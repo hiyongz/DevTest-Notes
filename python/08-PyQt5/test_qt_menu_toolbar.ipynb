{
 "cells": [
  {
   "cell_type": "markdown",
   "metadata": {},
   "source": [
    "##  菜单栏和工具栏"
   ]
  },
  {
   "cell_type": "code",
   "execution_count": 1,
   "metadata": {
    "collapsed": false
   },
   "outputs": [
    {
     "ename": "SystemExit",
     "evalue": "0",
     "output_type": "error",
     "traceback": [
      "An exception has occurred, use %tb to see the full traceback.\n",
      "\u001b[1;31mSystemExit\u001b[0m\u001b[1;31m:\u001b[0m 0\n"
     ]
    },
    {
     "name": "stderr",
     "output_type": "stream",
     "text": [
      "c:\\python37\\lib\\site-packages\\IPython\\core\\interactiveshell.py:3334: UserWarning: To exit: use 'exit', 'quit', or Ctrl-D.\n",
      "  warn(\"To exit: use 'exit', 'quit', or Ctrl-D.\", stacklevel=1)\n"
     ]
    }
   ],
   "source": [
    "#!/usr/bin/python3\n",
    "#-*- coding:utf-8 -*-\n",
    "'''\n",
    "ZetCode PyQt5 tutorial\n",
    "菜单栏和工具栏\n",
    "'''\n",
    "import sys\n",
    "from PyQt5.QtWidgets import QMainWindow, QTextEdit, QAction, QApplication\n",
    "from PyQt5.QtWidgets import qApp,QMenu\n",
    "from PyQt5.QtGui import QIcon\n",
    "\n",
    "class Example(QMainWindow):\n",
    "\n",
    "    def __init__(self):\n",
    "        super().__init__()\n",
    "\n",
    "        self.initUI()\n",
    "\n",
    "    def initUI(self):\n",
    "        textEdit = QTextEdit()\n",
    "        self.setCentralWidget(textEdit) # 创建了一个文本编辑区域\n",
    "\n",
    "        ################ 状态栏 ################\n",
    "        self.statusBar().showMessage('Ready')# 创建状态栏,在状态栏上显示一条信息\n",
    "        ################ 菜单栏 ################\n",
    "        exitAct = QAction(QIcon('exit.png'), '&Exit', self)# QAction是菜单栏、工具栏或者快捷键的动作的组合\n",
    "        exitAct.setShortcut('Ctrl+Q')\n",
    "        exitAct.setStatusTip('Exit application')# 创建一个状态栏，当鼠标悬停在菜单栏时显示当前状态\n",
    "        exitAct.triggered.connect(qApp.quit)\n",
    "\n",
    "        # self.statusBar()\n",
    "        menubar = self.menuBar() # 创建菜单栏\n",
    "        fileMenu = menubar.addMenu('&File')# 添加了一个file菜单\n",
    "        fileMenu.addAction(exitAct)# 关联点击退出应用的事件\n",
    "        ################ 子菜单 ################\n",
    "        impMenu = QMenu('Import', self) # QMenu创建一个新菜单\n",
    "        impAct = QAction('Import mail', self)\n",
    "        impMenu.addAction(impAct) # 使用addAction添加一个动作\n",
    "        fileMenu.addMenu(impMenu)\n",
    "\n",
    "        newAct = QAction('New', self)\n",
    "        fileMenu.addAction(newAct)\n",
    "\n",
    "        ################ 勾选菜单 ################\n",
    "        self.statusbar = self.statusBar()\n",
    "        self.statusbar.showMessage('Ready')\n",
    "        viewMenu = menubar.addMenu('View')\n",
    "\n",
    "        viewStatAct = QAction('View statusbar', self, checkable=True)# 创建一个能选中的菜单\n",
    "        viewStatAct.setStatusTip('View statusbar')\n",
    "        viewStatAct.setChecked(True) # 默认设置为选中状态\n",
    "        viewStatAct.triggered.connect(self.toggleMenu)\n",
    "\n",
    "        viewMenu.addAction(viewStatAct)\n",
    "        ################ 工具栏 ################\n",
    "        exitAct = QAction(QIcon('exit.jpg'), 'Exit', self)\n",
    "        exitAct.setShortcut('Ctrl+Q')\n",
    "        exitAct.triggered.connect(qApp.quit)\n",
    "\n",
    "        self.toolbar = self.addToolBar('Exit') # addToolBar 添加工具栏\n",
    "        self.toolbar.addAction(exitAct)\n",
    "\n",
    "\n",
    "\n",
    "        self.setGeometry(300, 300, 350, 250)\n",
    "        self.setWindowTitle('Main window')\n",
    "        self.show()\n",
    "    def toggleMenu(self, state):\n",
    "        if state:\n",
    "            self.statusbar.show()\n",
    "        else:\n",
    "            self.statusbar.hide()\n",
    "\n",
    "    def contextMenuEvent(self, event):\n",
    "        ################ 右键菜单 ################\n",
    "        cmenu = QMenu(self)\n",
    "\n",
    "        newAct = cmenu.addAction(\"New\")\n",
    "        opnAct = cmenu.addAction(\"Open\")\n",
    "        quitAct = cmenu.addAction(\"Quit\")\n",
    "        # 从鼠标右键事件对象中获得当前坐标。mapToGlobal()方法把当前组件的相对坐标转换为窗口（window）的绝对坐标。\n",
    "        action = cmenu.exec_(self.mapToGlobal(event.pos()))# 使用exec_()方法显示菜单\n",
    "\n",
    "        if action == quitAct:\n",
    "            qApp.quit()\n",
    "\n",
    "if __name__ == '__main__':\n",
    "    app = QApplication(sys.argv)\n",
    "    ex = Example()\n",
    "    sys.exit(app.exec_())"
   ]
  },
  {
   "cell_type": "code",
   "execution_count": null,
   "metadata": {
    "collapsed": true
   },
   "outputs": [],
   "source": []
  }
 ],
 "metadata": {
  "anaconda-cloud": {},
  "kernelspec": {
   "display_name": "Python [default]",
   "language": "python",
   "name": "python3"
  },
  "language_info": {
   "codemirror_mode": {
    "name": "ipython",
    "version": 3
   },
   "file_extension": ".py",
   "mimetype": "text/x-python",
   "name": "python",
   "nbconvert_exporter": "python",
   "pygments_lexer": "ipython3",
   "version": "3.5.6"
  }
 },
 "nbformat": 4,
 "nbformat_minor": 2
}
