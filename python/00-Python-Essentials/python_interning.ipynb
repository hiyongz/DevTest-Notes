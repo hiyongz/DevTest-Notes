{
 "cells": [
  {
   "cell_type": "code",
   "execution_count": 1,
   "metadata": {},
   "outputs": [
    {
     "name": "stdout",
     "output_type": "stream",
     "text": [
      "True\n",
      "False\n",
      "True\n",
      "True\n"
     ]
    }
   ],
   "source": [
    "l1 = [1, 2, 3, 4]\n",
    "l2 = [1, 2, 3, 4]\n",
    "l3 = l2\n",
    "print(l1 == l2)\n",
    "print(l1 is l2)\n",
    "print(l2 == l3)\n",
    "print(l2 is l3)"
   ]
  },
  {
   "cell_type": "markdown",
   "metadata": {},
   "source": [
    "整型驻留"
   ]
  },
  {
   "cell_type": "code",
   "execution_count": 6,
   "metadata": {},
   "outputs": [
    {
     "name": "stdout",
     "output_type": "stream",
     "text": [
      "False\n",
      "True\n",
      "True\n",
      "True\n"
     ]
    }
   ],
   "source": [
    "a1 = 300\n",
    "b1 = 300\n",
    "c1 = b1\n",
    "print(a1 is b1)\n",
    "print(c1 is b1)\n",
    "a2 = 200\n",
    "b2 = 200\n",
    "c2 = b2\n",
    "print(a2 is b2)\n",
    "print(c2 is b2)\n"
   ]
  },
  {
   "cell_type": "markdown",
   "metadata": {},
   "source": [
    "浮点型"
   ]
  },
  {
   "cell_type": "code",
   "execution_count": 8,
   "metadata": {},
   "outputs": [
    {
     "name": "stdout",
     "output_type": "stream",
     "text": [
      "False\n",
      "True\n"
     ]
    }
   ],
   "source": [
    "a = 1.0\n",
    "b = 1.0\n",
    "print(a is b)\n",
    "print(a == b)"
   ]
  },
  {
   "cell_type": "markdown",
   "metadata": {},
   "source": [
    "字符串驻留"
   ]
  },
  {
   "cell_type": "code",
   "execution_count": 1,
   "metadata": {},
   "outputs": [
    {
     "name": "stdout",
     "output_type": "stream",
     "text": [
      "52347208\n",
      "52347208\n"
     ]
    }
   ],
   "source": [
    "a = ''\n",
    "b = ''\n",
    "print(id(a))\n",
    "print(id(b))"
   ]
  },
  {
   "cell_type": "code",
   "execution_count": 9,
   "metadata": {},
   "outputs": [
    {
     "name": "stdout",
     "output_type": "stream",
     "text": [
      "False\n"
     ]
    }
   ],
   "source": [
    "a = 'Hello World'\n",
    "b = 'Hello World'\n",
    "\n",
    "print(a is b)\n"
   ]
  },
  {
   "cell_type": "code",
   "execution_count": 10,
   "metadata": {},
   "outputs": [
    {
     "name": "stdout",
     "output_type": "stream",
     "text": [
      "True\n"
     ]
    }
   ],
   "source": [
    "a = 'Hello_World'\n",
    "b = 'Hello_World'\n",
    "\n",
    "print(a is b)"
   ]
  },
  {
   "cell_type": "code",
   "execution_count": 2,
   "metadata": {},
   "outputs": [
    {
     "name": "stdout",
     "output_type": "stream",
     "text": [
      "False\n",
      "True\n",
      "False\n",
      "True\n"
     ]
    }
   ],
   "source": [
    "a = 'Hello World'\n",
    "b = 'Hello World'\n",
    "c = 'Hello Worl'\n",
    "\n",
    "print(a is b)\n",
    "print(a == b)\n",
    "print(a is c+'d')\n",
    "print(a == c+'d')"
   ]
  },
  {
   "cell_type": "code",
   "execution_count": 7,
   "metadata": {},
   "outputs": [
    {
     "name": "stdout",
     "output_type": "stream",
     "text": [
      "False\n",
      "True\n",
      "False\n",
      "True\n"
     ]
    }
   ],
   "source": [
    "a = 'Hello World'\n",
    "b = 'Hello World'\n",
    "c = 'Hello Worl'\n",
    "\n",
    "\n",
    "print(a is b)\n",
    "print(a == b)\n",
    "print(a is c+'d')\n",
    "print(a == c+'d')"
   ]
  },
  {
   "cell_type": "code",
   "execution_count": 5,
   "metadata": {},
   "outputs": [
    {
     "name": "stdout",
     "output_type": "stream",
     "text": [
      "2398301384560\n",
      "2398301383920\n",
      "2398301411376\n",
      "2398301384496\n",
      "2398301409520\n",
      "Hello World\n"
     ]
    }
   ],
   "source": [
    "letter = 'd'\r\n",
    "a = 'Hello World'\r\n",
    "b = 'Hello World'\r\n",
    "c = 'Hello Worl' + 'd'\r\n",
    "d = 'Hello Worl' + letter\r\n",
    "e = \" \".join(['Hello','World'])\r\n",
    "\r\n",
    "print(id(a))\r\n",
    "print(id(b))\r\n",
    "print(id(c))\r\n",
    "print(id(d))\r\n",
    "print(id(e))\r\n",
    "print(e)\r\n"
   ]
  },
  {
   "cell_type": "code",
   "execution_count": 8,
   "metadata": {},
   "outputs": [
    {
     "name": "stdout",
     "output_type": "stream",
     "text": [
      "False\n"
     ]
    }
   ],
   "source": [
    "a = 'aa'*5000\n",
    "b = 'aa'*5000\n",
    "print(a is b)"
   ]
  },
  {
   "cell_type": "code",
   "execution_count": 1,
   "metadata": {},
   "outputs": [
    {
     "name": "stdout",
     "output_type": "stream",
     "text": [
      "2198438515568\n",
      "2198438514992\n"
     ]
    }
   ],
   "source": [
    "a = '##'\n",
    "b = '##'\n",
    "print(id(a))\n",
    "print(id(b))"
   ]
  },
  {
   "cell_type": "code",
   "execution_count": 8,
   "metadata": {},
   "outputs": [
    {
     "name": "stdout",
     "output_type": "stream",
     "text": [
      "80716704\n",
      "80718504\n"
     ]
    }
   ],
   "source": [
    "a = '你'\n",
    "b = '你'\n",
    "print(id(a))\n",
    "print(id(b))"
   ]
  },
  {
   "cell_type": "code",
   "execution_count": 4,
   "metadata": {},
   "outputs": [
    {
     "name": "stdout",
     "output_type": "stream",
     "text": [
      "True\n",
      "True\n"
     ]
    }
   ],
   "source": [
    "a = True\n",
    "b = True\n",
    "print(a is b)\n",
    "print(a == b)"
   ]
  },
  {
   "cell_type": "markdown",
   "metadata": {},
   "source": [
    "元组"
   ]
  },
  {
   "cell_type": "code",
   "execution_count": 16,
   "metadata": {},
   "outputs": [
    {
     "name": "stdout",
     "output_type": "stream",
     "text": [
      "<class 'tuple'>\n",
      "False\n",
      "True\n"
     ]
    }
   ],
   "source": [
    "a = (1,2)\n",
    "b = (1,2)\n",
    "print(type(a))\n",
    "print(a is b)\n",
    "print(a == b)"
   ]
  },
  {
   "cell_type": "markdown",
   "metadata": {},
   "source": [
    "强行驻留"
   ]
  },
  {
   "cell_type": "code",
   "execution_count": 7,
   "metadata": {},
   "outputs": [
    {
     "name": "stdout",
     "output_type": "stream",
     "text": [
      "2398301381552\n",
      "2398301381552\n",
      "2398301381552\n",
      "2398301381552\n",
      "2398301381552\n"
     ]
    }
   ],
   "source": [
    "import sys\r\n",
    "\r\n",
    "letter = 'd'\r\n",
    "a = sys.intern('Hello World')\r\n",
    "b = sys.intern('Hello World')\r\n",
    "c = sys.intern('Hello Worl' + 'd')\r\n",
    "d = sys.intern('Hello Worl' + letter)\r\n",
    "e = sys.intern(\" \".join(['Hello','World']))\r\n",
    "print(id(a))\r\n",
    "print(id(b))\r\n",
    "print(id(c))\r\n",
    "print(id(d))\r\n",
    "print(id(e))"
   ]
  },
  {
   "cell_type": "code",
   "execution_count": null,
   "metadata": {},
   "outputs": [],
   "source": []
  }
 ],
 "metadata": {
  "interpreter": {
   "hash": "7adaecee6ea4919e47d0b9e500cd90be56f0afad878c7d0a6bf7e7a75a66e0c0"
  },
  "kernelspec": {
   "display_name": "Python 3.7.4 64-bit ('Python37')",
   "name": "python3"
  },
  "language_info": {
   "codemirror_mode": {
    "name": "ipython",
    "version": 3
   },
   "file_extension": ".py",
   "mimetype": "text/x-python",
   "name": "python",
   "nbconvert_exporter": "python",
   "pygments_lexer": "ipython3",
   "version": "3.7.4"
  },
  "orig_nbformat": 4
 },
 "nbformat": 4,
 "nbformat_minor": 2
}