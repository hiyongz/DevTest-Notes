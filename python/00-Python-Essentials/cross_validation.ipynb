{
 "cells": [
  {
   "cell_type": "markdown",
   "metadata": {},
   "source": [
    "## 留一交叉验证\n",
    "https://blog.csdn.net/luanpeng825485697/article/details/79836262"
   ]
  },
  {
   "cell_type": "code",
   "execution_count": 6,
   "metadata": {
    "collapsed": false,
    "scrolled": false
   },
   "outputs": [
    {
     "name": "stdout",
     "output_type": "stream",
     "text": [
      "留一划分：[1 2 3 4 5 6 7 8] [0]\n",
      "留一划分：[0 2 3 4 5 6 7 8] [1]\n",
      "留一划分：[0 1 3 4 5 6 7 8] [2]\n",
      "留一划分：[0 1 2 4 5 6 7 8] [3]\n",
      "留一划分：[0 1 2 3 5 6 7 8] [4]\n",
      "留一划分：[0 1 2 3 4 6 7 8] [5]\n",
      "留一划分：[0 1 2 3 4 5 7 8] [6]\n",
      "留一划分：[0 1 2 3 4 5 6 8] [7]\n",
      "留一划分：[0 1 2 3 4 5 6 7] [8]\n"
     ]
    }
   ],
   "source": [
    "from sklearn.model_selection import KFold,LeaveOneOut,LeavePOut,ShuffleSplit\n",
    "loo = LeaveOneOut()\n",
    "for train, test in loo.split(range(1,10,1)):\n",
    "    train.shape\n",
    "    test.shape\n",
    "    print(\"留一划分：%s %s\" % (train, test))"
   ]
  },
  {
   "cell_type": "markdown",
   "metadata": {},
   "source": [
    "## K-fold"
   ]
  },
  {
   "cell_type": "code",
   "execution_count": null,
   "metadata": {
    "collapsed": true
   },
   "outputs": [],
   "source": [
    "# k折划分子集\n",
    "kf = KFold(n_splits=10)\n",
    "# 留p划分子集\n",
    "lpo = LeavePOut(p=2)\n",
    "for train, test in loo.split(iris.data):\n",
    "    print(\"留p划分：%s %s\" % (train.shape, test.shape))\n",
    "    break\n",
    "\n",
    "# 随机排列划分子集\n",
    "ss = ShuffleSplit(n_splits=3, test_size=0.25,random_state=0)\n",
    "for train_index, test_index in ss.split(iris.data):\n",
    "    print(\"随机排列划分：%s %s\" % (train.shape, test.shape))\n",
    "    break\n"
   ]
  }
 ],
 "metadata": {
  "anaconda-cloud": {},
  "kernelspec": {
   "display_name": "Python [conda root]",
   "language": "python",
   "name": "conda-root-py"
  },
  "language_info": {
   "codemirror_mode": {
    "name": "ipython",
    "version": 3
   },
   "file_extension": ".py",
   "mimetype": "text/x-python",
   "name": "python",
   "nbconvert_exporter": "python",
   "pygments_lexer": "ipython3",
   "version": "3.5.2"
  }
 },
 "nbformat": 4,
 "nbformat_minor": 1
}
