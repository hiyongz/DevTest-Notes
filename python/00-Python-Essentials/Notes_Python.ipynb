{
 "cells": [
  {
   "cell_type": "markdown",
   "metadata": {},
   "source": [
    "## 数据类型"
   ]
  },
  {
   "cell_type": "code",
   "execution_count": null,
   "metadata": {
    "collapsed": true
   },
   "outputs": [],
   "source": [
    "## 判断数据类型\n",
    "isinstance(preprodata, list) ## int，float，bool，complex，str(字符串)，list，dict(字典)，set，tuple"
   ]
  },
  {
   "cell_type": "code",
   "execution_count": null,
   "metadata": {
    "collapsed": true
   },
   "outputs": [],
   "source": [
    "## 构建结构体\n",
    "class SignalAndTarget(object):   \n",
    "    def __init__(self, X, y):\n",
    "        assert len(X) == len(y)\n",
    "        self.X = X\n",
    "        self.y = y        \n",
    "data_set = SignalAndTarget(X, y=y)   "
   ]
  },
  {
   "cell_type": "markdown",
   "metadata": {},
   "source": [
    "## python 导入和保存*.mat数据"
   ]
  },
  {
   "cell_type": "markdown",
   "metadata": {},
   "source": [
    "### 1、scipy.io"
   ]
  },
  {
   "cell_type": "code",
   "execution_count": null,
   "metadata": {
    "collapsed": true
   },
   "outputs": [],
   "source": [
    "import scipy.io as scio\n",
    "import pandas as pd\n",
    "\n",
    "data_path=\"train.mat\"\n",
    "data = scio.loadmat(\"data.mat\")\n",
    "label=data_train.get('label')#取出字典里的label\n",
    "# label = data['label'] \n",
    "data=data_train.get('data')#取出字典里的data\n",
    "# data = data['data']\n",
    "# 保存\n",
    "scipy.io.savemat(file_name = 'train.mat',mdict = {'label':label, 'data':data})  # 写入mat文件\n"
   ]
  },
  {
   "cell_type": "markdown",
   "metadata": {},
   "source": [
    "### 2、h5py"
   ]
  },
  {
   "cell_type": "code",
   "execution_count": null,
   "metadata": {
    "collapsed": true
   },
   "outputs": [],
   "source": [
    "import h5py\n",
    "mat = h5py.File('data.mat')\n",
    "data = mat['data'][:]\n",
    "label = mat['label'][:]"
   ]
  },
  {
   "cell_type": "markdown",
   "metadata": {},
   "source": [
    "### 数据保存"
   ]
  },
  {
   "cell_type": "code",
   "execution_count": null,
   "metadata": {
    "collapsed": true
   },
   "outputs": [],
   "source": [
    "## 保存为CSV文件\n",
    "directory = \"behav_results\"\n",
    "if not os.path.isdir(directory):\n",
    "    os.mkdir(directory)\n",
    "subjname = 's1'\n",
    "filename = \"{}/{}_Hehav.csv\".format(directory,subjname)  # ISO compliant\n",
    "with open(filename, 'a+') as fi:\n",
    "    writer = csv.writer(fi, delimiter=',')#,dialect='excel'\n",
    "    # create output file header\n",
    "    writer.writerow([\n",
    "        'RT',\n",
    "        \"{:.2f}\".format(meanRT[0]),        \n",
    "    ])\n",
    "\n",
    "## 保存TXT文件\n",
    "resultspath = 'F:/DL_online/results/'\n",
    "expname = 'vs1'\n",
    "import time\n",
    "tm = time.strftime(\"%Y-%m-%d %H:%M:%S\",time.localtime(time.time())) ## 获取当前日期和时间\n",
    "with open(resultspath+ subjname + '_'+expname+'.txt','a+',encoding='utf-8') as f:\n",
    "    f.write('\\n')\n",
    "    f.write(tm)   \n",
    "    f.write('\\n')\n",
    "    f.write(str(tw1))\n",
    "    f.write('\\n')\n",
    "   "
   ]
  },
  {
   "cell_type": "markdown",
   "metadata": {},
   "source": [
    "## 循环添加数据\n",
    "有时需要迭代的导入数据，并添加到一个变量中"
   ]
  },
  {
   "cell_type": "code",
   "execution_count": null,
   "metadata": {
    "collapsed": true
   },
   "outputs": [],
   "source": [
    "import h5py\n",
    "import numpy as np\n",
    "alldata = np.zeros((1, nchan,126)) #先生成一个空的矩阵，需要与导入数据维度（需要连接的那一维）相同\n",
    "labels = np.zeros((1)) + 8\n",
    "for path in physionet_paths:\n",
    "    mat = h5py.File(path[0])\n",
    "    # data[x[1]]\n",
    "    # w=data[x[1]]['wave']\n",
    "    data = mat['data'][:]\n",
    "    label = mat['label'][:]\n",
    "    label = (label.transpose((1, 0)) - 1).astype(np.int64)\n",
    "    data = data.transpose((0, 2, 1)).astype(np.float32)  # trials x channels x timesteps\n",
    "    # physionet_paths = np.concatenate(physionet_paths)\n",
    "    alldata = np.concatenate((alldata, data), axis=0) # 连接\n",
    "    labels = np.concatenate((labels, label[:, 0]), axis=0)\n",
    "train_X = np.delete(alldata, 0, axis=0) #删除开始生成的那一维\n",
    "train_y = np.delete(labels, 0, axis=0)"
   ]
  },
  {
   "cell_type": "code",
   "execution_count": null,
   "metadata": {
    "collapsed": true
   },
   "outputs": [],
   "source": [
    "labe2 = np.expand_dims(np.array(labe2), axis=1) # 扩充维度"
   ]
  },
  {
   "cell_type": "markdown",
   "metadata": {},
   "source": [
    "## 机器学习"
   ]
  },
  {
   "cell_type": "code",
   "execution_count": 2,
   "metadata": {
    "collapsed": false
   },
   "outputs": [
    {
     "name": "stdout",
     "output_type": "stream",
     "text": [
      "----------------------------------------------------------------------------------------------------\n",
      "(array([4, 3, 5, 2], dtype=int64), array([0, 1], dtype=int64))\n",
      "[3 4]\n",
      "[2 5]\n",
      "[0 1]\n",
      "----------------------------------------------------------------------------------------------------\n",
      "(array([1, 4, 0, 5], dtype=int64), array([2, 3], dtype=int64))\n",
      "[1 5]\n",
      "[4 0]\n",
      "[2 3]\n",
      "----------------------------------------------------------------------------------------------------\n",
      "(array([3, 1, 2, 0], dtype=int64), array([4, 5], dtype=int64))\n",
      "[1 2]\n",
      "[3 0]\n",
      "[4 5]\n"
     ]
    }
   ],
   "source": [
    "## 留一被试交叉验证\n",
    "import numpy as np\n",
    "subj_nums = [1,1,2,2,3,3]\n",
    "nums_subject = len(np.unique(subj_nums))\n",
    "fold_pairs = []\n",
    "for i in np.unique(subj_nums):\n",
    "    ts = subj_nums == i\n",
    "    tr = np.squeeze(np.nonzero(np.bitwise_not(ts)))\n",
    "    ts = np.squeeze(np.nonzero(ts))\n",
    "    np.random.shuffle(tr)\n",
    "    np.random.shuffle(ts)\n",
    "    fold_pairs.append((tr, ts))\n",
    "    \n",
    "for subj_id in range(nums_subject):\n",
    "    print('-'*100)    \n",
    "    indices = fold_pairs[subj_id]\n",
    "    print(indices)\n",
    "    np.random.shuffle(indices[0])\n",
    "    np.random.shuffle(indices[0])\n",
    "    trainIndices = indices[0][len(indices[1]):]\n",
    "    validIndices = indices[0][:len(indices[1])]\n",
    "    testIndices = indices[1]\n",
    "    print(trainIndices)\n",
    "    print(validIndices)\n",
    "    print(testIndices)\n",
    "    "
   ]
  },
  {
   "cell_type": "markdown",
   "metadata": {},
   "source": [
    "### 数组重新排列\n",
    "相当于matlab的permute函数\n",
    "permute(A,[2 1 3]);%例如A是4×5×6的三维数组，permute后A变成5×4×6"
   ]
  },
  {
   "cell_type": "code",
   "execution_count": null,
   "metadata": {
    "collapsed": true
   },
   "outputs": [],
   "source": [
    "data.transpose((0, 2, 1)\n",
    "arr = [1,2,3,4,5,6,7,8,9] 一个一维的list，长度为9\n",
    "arr.reshape(3,3)\n",
    "arr.reshape(-1,3)#-1代表不知道可以分成多少行"
   ]
  },
  {
   "cell_type": "markdown",
   "metadata": {},
   "source": [
    "### 打乱顺序"
   ]
  },
  {
   "cell_type": "code",
   "execution_count": 2,
   "metadata": {
    "collapsed": true
   },
   "outputs": [],
   "source": [
    "from random import shuffle\n",
    "import numpy as np\n",
    "\n",
    "# n_subj2 = len(label1)\n",
    "n_subj2 = 10\n",
    "preprodata2 = np.random.rand(10,3)\n",
    "index = np.arange(n_subj2)\n",
    "shuffle(index) # 打乱顺序\n",
    "preprodata2 = preprodata2[index]\n",
    "\n",
    "## 打乱两个list\n",
    "cc = list(zip(preprodata2, label2))\n",
    "shuffle(cc)\n",
    "preprodata2[:], label2[:] = zip(*cc)\n",
    "\n"
   ]
  },
  {
   "cell_type": "code",
   "execution_count": null,
   "metadata": {
    "collapsed": true
   },
   "outputs": [],
   "source": [
    "### 设置相同的随机种子，再shuffle的方式来实现\n",
    "import random\n",
    "randnum = random.randint(0,100)\n",
    "random.seed(randnum)\n",
    "random.shuffle(train_x)\n",
    "random.seed(randnum)\n",
    "random.shuffle(train_y)"
   ]
  },
  {
   "cell_type": "markdown",
   "metadata": {},
   "source": [
    "## 排序\n",
    "http://python3porting.com/preparing.html#keycmp-section\n",
    "Python 3.x使用names.sort（）可能会出错"
   ]
  },
  {
   "cell_type": "code",
   "execution_count": null,
   "metadata": {
    "collapsed": true
   },
   "outputs": [],
   "source": [
    "names = ['Adam', 'Donald', 'John']\n",
    "names.sort(key=lambda x: x[1:])\n",
    "names\n",
    "['Adam', 'John', 'Donald']\n",
    "# Python 2.4 also introduced a reverse parameter.\n",
    "\n",
    "names = ['Adam', 'Donald', 'John']\n",
    "names.sort(key=lambda x: x[1:], reverse=True)\n",
    "names\n",
    "['Donald', 'John', 'Adam']\n",
    "# There is one case where using key is less obvious than using cmp and that’s when you need to sort on several values. Let’s say we want the result to be sorted with the longest names first and names of the same length should be sorted alphabetically. Doing this with a key function is not immediately obvious, but the solution is usually to sort twice, with the least important sorting first.\n",
    "\n",
    "names = ['Adam', 'Donald', 'John']\n",
    "# Alphabetical sort\n",
    "names.sort()\n",
    "# Long names should go first\n",
    "names.sort(key=lambda x: len(x), reverse=True)\n",
    "names\n",
    "['Donald', 'Adam', 'John']"
   ]
  },
  {
   "cell_type": "markdown",
   "metadata": {},
   "source": [
    "## 数组操作"
   ]
  },
  {
   "cell_type": "code",
   "execution_count": 5,
   "metadata": {
    "collapsed": false
   },
   "outputs": [
    {
     "name": "stdout",
     "output_type": "stream",
     "text": [
      "[1, 2, 3, 4, 5, 6]\n",
      "[1, 2, 3, 4, 5, 6]\n"
     ]
    }
   ],
   "source": [
    "## 删除符合条件的元素\n",
    "a = [1,2,0,3,4,0,5,0,6]\n",
    "b = filter(lambda x: x != 0, a) #删除0\n",
    "# list(b)\n",
    "print(list(b))\n",
    "\n",
    "# 或者\n",
    "def fun1(s): return s if s != 0 else None\n",
    "ret = filter(fun1, a)\n",
    "print(list(ret))"
   ]
  },
  {
   "cell_type": "code",
   "execution_count": null,
   "metadata": {
    "collapsed": true
   },
   "outputs": [],
   "source": [
    "## 升维\n",
    "np.expand_dims(np.array(lab), axis=1)"
   ]
  },
  {
   "cell_type": "code",
   "execution_count": null,
   "metadata": {
    "collapsed": true
   },
   "outputs": [],
   "source": [
    "## 去除重复元素\n",
    "lab = [1,2,3,3,3,2]\n",
    "b = np.unique(lab)"
   ]
  },
  {
   "cell_type": "code",
   "execution_count": 9,
   "metadata": {
    "collapsed": false
   },
   "outputs": [
    {
     "name": "stdout",
     "output_type": "stream",
     "text": [
      "[2]\n"
     ]
    }
   ],
   "source": [
    "# 寻找满足特定条件的索引\n",
    "import numpy as np\n",
    "dbeg = [1,3,4,2,3]\n",
    "dbeg = np.array(dbeg)\n",
    "dbeg = np.expand_dims(dbeg, axis=1)\n",
    "begsamp, _ = np.where(dbeg == np.max(np.abs(dbeg)))\n",
    "print(begsamp)"
   ]
  },
  {
   "cell_type": "code",
   "execution_count": 7,
   "metadata": {
    "collapsed": false
   },
   "outputs": [
    {
     "name": "stdout",
     "output_type": "stream",
     "text": [
      "[ 0  1  2  3  4  5  6  7  8  9 10 11 12 13 14 15 16 17 18 19 20 21 22 23 24\n",
      " 25 26 27 28 29 30 31 32 33 34 35 36 37 38 39 40 41 42 43 44 45 46 47 48 49\n",
      " 50 51 52 53 54 55 56 57 58 59 60 61 62 63 64 65 66 67 68 69 70 71 72 73 74\n",
      " 75 76 77 78 79 80 81 82 83 84 85 86 87 88 89 90 91 92 93 94 95 96 97 98 99]\n"
     ]
    }
   ],
   "source": [
    "import numpy as np\n",
    "t = np.arange(0, 100, 1)\n",
    "print(t)\n",
    "\n",
    "## 生成0到n个数字的list\n",
    "list = [i for i in range(1000)]\n",
    "list = list(range(1000))"
   ]
  },
  {
   "cell_type": "markdown",
   "metadata": {},
   "source": [
    "## 字符操作\n"
   ]
  },
  {
   "cell_type": "code",
   "execution_count": 2,
   "metadata": {
    "collapsed": false
   },
   "outputs": [
    {
     "name": "stdout",
     "output_type": "stream",
     "text": [
      "<_sre.SRE_Match object; span=(4, 8), match='.mat'>\n"
     ]
    }
   ],
   "source": [
    "##### 字符匹配\n",
    "import re,os\n",
    "## 任意匹配\n",
    "pattern2 = '.mat'\n",
    "dirdatafile = 'data.mat'\n",
    "matchObj = re.search(pattern2, dirdatafile)\n",
    "if matchObj != None:\n",
    "   print(matchObj)\n",
    "    \n",
    "## 匹配以‘S’开头的字符串   \n",
    "pattern1 = r\"S\"\n",
    "\n",
    "dirdatafiles = np.array(os.listdir(datapath))\n",
    "for dirdatafile in dirdatafiles:\n",
    "    matchObj = re.match(pattern1,dirdatafile)\n",
    "    if matchObj != None:\n",
    "       print(matchObj)"
   ]
  },
  {
   "cell_type": "code",
   "execution_count": null,
   "metadata": {
    "collapsed": true
   },
   "outputs": [],
   "source": [
    "subj_list = ['s1','s3','s62','s63']\n",
    "sname = ['s62','s63']\n",
    "# sname = ['all']\n",
    "sname = [na.upper() for na in sname]\n",
    "\n",
    "for subj_i in range(len(subj_list)):\n",
    "    # if subj_list[subj_i].upper() != sname.upper():\n",
    "    #     continue\n",
    "    if subj_list[subj_i].upper() not in sname and sname[0]!='all'.upper():\n",
    "        continue\n",
    "    elif sname=='all'.upper():\n",
    "        pass"
   ]
  },
  {
   "cell_type": "code",
   "execution_count": null,
   "metadata": {
    "collapsed": true
   },
   "outputs": [],
   "source": [
    "# 将str数组转化为int\n",
    "lab1[lab_i,:] = list(map(int, labe[lab_i][0:4]))"
   ]
  },
  {
   "cell_type": "markdown",
   "metadata": {},
   "source": [
    "## 文件目录"
   ]
  },
  {
   "cell_type": "code",
   "execution_count": null,
   "metadata": {
    "collapsed": true
   },
   "outputs": [],
   "source": [
    "# 清空目录文件\n",
    "import os\n",
    "def del_file(path):\n",
    "    for i in os.listdir(path):\n",
    "        path_file = os.path.join(path,i)  #// 取文件绝对路径\n",
    "        if os.path.isfile(path_file):\n",
    "            os.remove(path_file)\n",
    "        else:\n",
    "            del_file(path_file)\n",
    "resultspath = 'D:/DLinEEG/DL_offine/behav_results'\n",
    "if os.path.exists(resultspath):\n",
    "    del_file(resultspath)"
   ]
  },
  {
   "cell_type": "markdown",
   "metadata": {},
   "source": [
    "## 多线程"
   ]
  },
  {
   "cell_type": "code",
   "execution_count": null,
   "metadata": {
    "collapsed": true
   },
   "outputs": [],
   "source": [
    "import _thread\n",
    "## onlineprocess为函数名\n",
    "_thread.start_new_thread(onlineprocess,(eegdata, fs, model,address2, flag_split[trialnum-1],subjname,expname))"
   ]
  },
  {
   "cell_type": "markdown",
   "metadata": {},
   "source": [
    "## socket"
   ]
  },
  {
   "cell_type": "code",
   "execution_count": null,
   "metadata": {
    "collapsed": true
   },
   "outputs": [],
   "source": [
    "## 客户端 client\n",
    "ss = socket.socket(socket.AF_INET, socket.SOCK_DGRAM)\n",
    "address2 = ('192.168.1.3', 4008)\n",
    "ss.sendto(bytes(msg,'utf-8'),address2)\n",
    "\n",
    "\n",
    "## 接收 server\n",
    "fs = 1000\n",
    "address = ('192.168.1.1', 4001)\n",
    "s = socket.socket(socket.AF_INET, socket.SOCK_DGRAM)\n",
    "s.setsockopt(socket.SOL_SOCKET, socket.SO_REUSEADDR, 1)\n",
    "s.bind(address)\n",
    "\n",
    "while True:\n",
    "    flag,addr = s.recvfrom(10204)\n",
    "    print(flag)"
   ]
  },
  {
   "cell_type": "markdown",
   "metadata": {},
   "source": [
    "## 其它"
   ]
  },
  {
   "cell_type": "code",
   "execution_count": null,
   "metadata": {
    "collapsed": true
   },
   "outputs": [],
   "source": [
    "condname = eval('condname' + str(cond_i+1))"
   ]
  }
 ],
 "metadata": {
  "anaconda-cloud": {},
  "kernelspec": {
   "display_name": "Python [conda root]",
   "language": "python",
   "name": "conda-root-py"
  },
  "language_info": {
   "codemirror_mode": {
    "name": "ipython",
    "version": 3
   },
   "file_extension": ".py",
   "mimetype": "text/x-python",
   "name": "python",
   "nbconvert_exporter": "python",
   "pygments_lexer": "ipython3",
   "version": "3.5.6"
  }
 },
 "nbformat": 4,
 "nbformat_minor": 1
}
