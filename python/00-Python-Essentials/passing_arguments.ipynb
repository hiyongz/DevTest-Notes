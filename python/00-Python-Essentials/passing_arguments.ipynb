{
 "cells": [
  {
   "cell_type": "markdown",
   "source": [
    "# python参数传递\r\n",
    "## 获取对象的内存地址"
   ],
   "metadata": {}
  },
  {
   "cell_type": "code",
   "execution_count": 13,
   "source": [
    "#!/usr/bin/python3\r\n",
    "# -*-coding:utf-8-*-\r\n",
    "l1 = [1, 2, 3]\r\n",
    "print(id(l1))  # 返回对象的内存地址\r\n",
    "\r\n",
    "l2 = l1\r\n",
    "print(id(l2))\r\n",
    "\r\n",
    "l1.append(4)\r\n",
    "print(id(l1))\r\n",
    "\r\n",
    "print(l1)\r\n",
    "print(l2)\r\n",
    "print(l1 is l2)\r\n",
    "\r\n",
    "l3 = [4, 5, 6]\r\n",
    "print(id(l3))"
   ],
   "outputs": [
    {
     "output_type": "stream",
     "name": "stdout",
     "text": [
      "1940418295872\n",
      "1940418295872\n",
      "1940418295872\n",
      "[1, 2, 3, 4]\n",
      "[1, 2, 3, 4]\n",
      "True\n",
      "1940418293952\n"
     ]
    }
   ],
   "metadata": {}
  },
  {
   "cell_type": "markdown",
   "source": [
    "## 变量赋值"
   ],
   "metadata": {}
  },
  {
   "cell_type": "code",
   "execution_count": 14,
   "source": [
    "a = 1\r\n",
    "print(id(a))\r\n",
    "b = a\r\n",
    "print(id(b))\r\n",
    "a = a + 1\r\n",
    "print(id(a))\r\n",
    "c = 1\r\n",
    "print(id(c))"
   ],
   "outputs": [
    {
     "output_type": "stream",
     "name": "stdout",
     "text": [
      "1940345612592\n",
      "1940345612592\n",
      "1940345612624\n",
      "1940345612592\n"
     ]
    }
   ],
   "metadata": {}
  },
  {
   "cell_type": "markdown",
   "source": [
    "## == vs is"
   ],
   "metadata": {}
  },
  {
   "cell_type": "code",
   "execution_count": 15,
   "source": [
    "a = 1\r\n",
    "b = a\r\n",
    "print(id(a))\r\n",
    "print(id(b))\r\n",
    "print(a == b)\r\n",
    "print(a is b)\r\n",
    "\r\n",
    "if a is None:\r\n",
    "    print(\"a is None\")\r\n",
    "if a is not None:\r\n",
    "    print(\"a is not None\")"
   ],
   "outputs": [
    {
     "output_type": "stream",
     "name": "stdout",
     "text": [
      "1940345612592\n",
      "1940345612592\n",
      "True\n",
      "True\n",
      "a is not None\n"
     ]
    }
   ],
   "metadata": {}
  },
  {
   "cell_type": "markdown",
   "source": [
    "# Python浅拷贝和深度拷贝\r\n",
    "## 不可变数据类型浅拷贝"
   ],
   "metadata": {}
  },
  {
   "cell_type": "code",
   "execution_count": 16,
   "source": [
    "import copy\r\n",
    "a = 1\r\n",
    "b = copy.copy(a)\r\n",
    "print(id(a))\r\n",
    "print(id(b))\r\n",
    "print(a == b)\r\n",
    "print(a is b)\r\n",
    "\r\n",
    "t1 = (1, 2, 3)\r\n",
    "t2 = tuple(t1)\r\n",
    "print(id(t1))\r\n",
    "print(id(t2))\r\n",
    "print(t1 == t2)\r\n",
    "print(t1 is t2)"
   ],
   "outputs": [
    {
     "output_type": "stream",
     "name": "stdout",
     "text": [
      "1940345612592\n",
      "1940345612592\n",
      "True\n",
      "True\n",
      "1940417239552\n",
      "1940417239552\n",
      "True\n",
      "True\n"
     ]
    }
   ],
   "metadata": {}
  },
  {
   "cell_type": "markdown",
   "source": [
    "## 可变数据类型浅拷贝"
   ],
   "metadata": {}
  },
  {
   "cell_type": "code",
   "execution_count": 17,
   "source": [
    "l1 = [1, 2, 3]\r\n",
    "l2 = list(l1)\r\n",
    "l3 = copy.copy(l1)\r\n",
    "l4 = l1[:]\r\n",
    "print(id(l1))\r\n",
    "print(id(l2))\r\n",
    "print(l1 == l2)\r\n",
    "print(l1 is l2)\r\n",
    "print(id(l3))\r\n",
    "print(id(l4))\r\n",
    "\r\n",
    "print(\"############\")\r\n",
    "l1.append(4)\r\n",
    "print(id(l1))\r\n",
    "print(l1 == l2)\r\n",
    "print(l1 is l2)\r\n",
    "\r\n",
    "print(\"###############\")\r\n",
    "l1 = [[1, 2], (4, 5)]\r\n",
    "l2 = copy.copy(l1)\r\n",
    "print(id(l1))\r\n",
    "print(id(l2))\r\n",
    "print(id(l1[0]))\r\n",
    "print(id(l2[0]))\r\n",
    "l1.append(6)\r\n",
    "print(l1)\r\n",
    "print(l2)\r\n",
    "l1[0].append(3)\r\n",
    "print(l1)\r\n",
    "print(l2)"
   ],
   "outputs": [
    {
     "output_type": "stream",
     "name": "stdout",
     "text": [
      "1940419266560\n",
      "1940419267584\n",
      "A: bye!!!\n",
      "B: bye!!!\n",
      "True\n",
      "False\n",
      "1940419266752\n",
      "1940419266368\n",
      "############\n",
      "1940419266560\n",
      "False\n",
      "False\n",
      "###############\n",
      "1940419266688\n",
      "1940418295872\n",
      "1940419266304\n",
      "1940419266304\n",
      "[[1, 2], (4, 5), 6]\n",
      "[[1, 2], (4, 5)]\n",
      "[[1, 2, 3], (4, 5), 6]\n",
      "[[1, 2, 3], (4, 5)]\n"
     ]
    }
   ],
   "metadata": {}
  },
  {
   "cell_type": "markdown",
   "source": [
    "## 深度拷贝"
   ],
   "metadata": {}
  },
  {
   "cell_type": "code",
   "execution_count": 18,
   "source": [
    "\r\n",
    "l1 = [[1, 2], (4, 5)]\r\n",
    "l2 = copy.deepcopy(l1)\r\n",
    "print(id(l1))\r\n",
    "print(id(l2))\r\n",
    "l1.append(6)\r\n",
    "print(l1)\r\n",
    "print(l2)\r\n",
    "l1[0].append(3)\r\n",
    "print(l1)\r\n",
    "print(l2)"
   ],
   "outputs": [
    {
     "output_type": "stream",
     "name": "stdout",
     "text": [
      "1940419237504\n",
      "1940419238592\n",
      "[[1, 2], (4, 5), 6]\n",
      "[[1, 2], (4, 5)]\n",
      "[[1, 2, 3], (4, 5), 6]\n",
      "[[1, 2], (4, 5)]\n"
     ]
    }
   ],
   "metadata": {}
  },
  {
   "cell_type": "markdown",
   "source": [
    "# python垃圾回收\r\n",
    "## 引用计数"
   ],
   "metadata": {}
  },
  {
   "cell_type": "code",
   "execution_count": 19,
   "source": [
    "from sys import getrefcount\r\n",
    "\r\n",
    "l1 = [1, 2, 3]\r\n",
    "print(getrefcount(l1)) # 查看引用计数\r\n",
    "l2 = l1\r\n",
    "print(getrefcount(l2))"
   ],
   "outputs": [
    {
     "output_type": "stream",
     "name": "stdout",
     "text": [
      "2\n",
      "3\n"
     ]
    }
   ],
   "metadata": {}
  },
  {
   "cell_type": "markdown",
   "source": [
    "## del"
   ],
   "metadata": {}
  },
  {
   "cell_type": "code",
   "execution_count": 20,
   "source": [
    "class TestObjectA(dict):\r\n",
    "    def __init__(self):\r\n",
    "        print(\"A: hello!!!\")\r\n",
    "    def __del__(self):\r\n",
    "        print(\"A: bye!!!\")\r\n",
    "\r\n",
    "class TestObjectB(dict):\r\n",
    "    def __init__(self):\r\n",
    "        print(\"B: hello!!!\")\r\n",
    "    def __del__(self):\r\n",
    "        print(\"B: bye!!!\")\r\n",
    "\r\n",
    "a = TestObjectA()\r\n",
    "b = a\r\n",
    "c = a\r\n",
    "print(getrefcount(c))\r\n",
    "del a\r\n",
    "print(getrefcount(c))\r\n",
    "del b\r\n",
    "print(getrefcount(c))\r\n",
    "del c\r\n",
    "print(\"666\")"
   ],
   "outputs": [
    {
     "output_type": "stream",
     "name": "stdout",
     "text": [
      "A: hello!!!\n",
      "4\n",
      "3\n",
      "2\n",
      "A: bye!!!\n",
      "666\n"
     ]
    }
   ],
   "metadata": {}
  },
  {
   "cell_type": "markdown",
   "source": [
    "## 标记清除\r\n",
    "循环引用"
   ],
   "metadata": {}
  },
  {
   "cell_type": "code",
   "execution_count": 21,
   "source": [
    "a = TestObjectA()\r\n",
    "b = TestObjectB()\r\n",
    "a['1'] = b\r\n",
    "b['1'] = a\r\n",
    "del a\r\n",
    "del b\r\n",
    "\r\n",
    "print(\"666\")"
   ],
   "outputs": [
    {
     "output_type": "stream",
     "name": "stdout",
     "text": [
      "A: hello!!!\n",
      "B: hello!!!\n",
      "666\n"
     ]
    }
   ],
   "metadata": {}
  },
  {
   "cell_type": "markdown",
   "source": [
    "## 分代回收"
   ],
   "metadata": {}
  },
  {
   "cell_type": "code",
   "execution_count": 22,
   "source": [
    "import gc\r\n",
    "\r\n",
    "print(gc.get_threshold())\r\n",
    "\r\n",
    "\r\n",
    "a = TestObjectA\r\n",
    "b = a\r\n",
    "print(gc.get_count())\r\n",
    "del a\r\n",
    "print(gc.get_count())\r\n",
    "del b\r\n",
    "print(gc.get_count())"
   ],
   "outputs": [
    {
     "output_type": "stream",
     "name": "stdout",
     "text": [
      "(700, 10, 10)\n",
      "(150, 2, 2)\n",
      "(156, 2, 2)\n",
      "(162, 2, 2)\n"
     ]
    }
   ],
   "metadata": {}
  },
  {
   "cell_type": "markdown",
   "source": [
    "# Python函数参数类型"
   ],
   "metadata": {}
  },
  {
   "cell_type": "markdown",
   "source": [
    "## 必选参数\r\n"
   ],
   "metadata": {}
  },
  {
   "cell_type": "code",
   "execution_count": 23,
   "source": [
    "def test_divide(num1, num2):\r\n",
    "  return num1/num2\r\n",
    "\r\n",
    "print(test_divide(1,2))\r\n",
    "print(test_divide(num1=1,num2=2))\r\n",
    "print(test_divide(num2=2,num1=1))\r\n"
   ],
   "outputs": [
    {
     "output_type": "stream",
     "name": "stdout",
     "text": [
      "0.5\n",
      "0.5\n",
      "0.5\n"
     ]
    }
   ],
   "metadata": {}
  },
  {
   "cell_type": "markdown",
   "source": [
    "## 位置参数"
   ],
   "metadata": {}
  },
  {
   "cell_type": "code",
   "execution_count": 24,
   "source": [
    "print(pow(2,5))\r\n",
    "print(pow(5,2))\r\n",
    "print(pow(x=5,2))"
   ],
   "outputs": [
    {
     "output_type": "error",
     "ename": "SyntaxError",
     "evalue": "positional argument follows keyword argument (<ipython-input-24-1d28119d2cb3>, line 3)",
     "traceback": [
      "\u001b[1;36m  File \u001b[1;32m\"<ipython-input-24-1d28119d2cb3>\"\u001b[1;36m, line \u001b[1;32m3\u001b[0m\n\u001b[1;33m    print(pow(x=5,2))\u001b[0m\n\u001b[1;37m                   ^\u001b[0m\n\u001b[1;31mSyntaxError\u001b[0m\u001b[1;31m:\u001b[0m positional argument follows keyword argument\n"
     ]
    }
   ],
   "metadata": {}
  },
  {
   "cell_type": "markdown",
   "source": [
    "## 强制位置参数\r\n",
    "Positional-Only Parameters"
   ],
   "metadata": {}
  },
  {
   "cell_type": "code",
   "execution_count": null,
   "source": [
    "def test_divide(num1, num2=2, /):\r\n",
    "  return num1/num2\r\n",
    "\r\n",
    "print(test_divide(1,2))\r\n",
    "print(test_divide(num1=1,num2=2))"
   ],
   "outputs": [
    {
     "output_type": "stream",
     "name": "stdout",
     "text": [
      "0.5\n"
     ]
    }
   ],
   "metadata": {}
  },
  {
   "cell_type": "markdown",
   "source": [
    "## 可变参数"
   ],
   "metadata": {}
  },
  {
   "cell_type": "code",
   "execution_count": null,
   "source": [
    "def test_sum(*numbers):\r\n",
    "    print(numbers)\r\n",
    "    print(type(numbers))\r\n",
    "    sum = 0\r\n",
    "    for num in numbers:\r\n",
    "        sum = sum + num\r\n",
    "    return sum\r\n",
    "\r\n",
    "print(test_sum(1,2,3,4))"
   ],
   "outputs": [],
   "metadata": {}
  },
  {
   "cell_type": "markdown",
   "source": [
    "## 关键字参数"
   ],
   "metadata": {}
  },
  {
   "cell_type": "code",
   "execution_count": null,
   "source": [
    "def person(**message):\r\n",
    "    print(message)\r\n",
    "    print(type(message))\r\n",
    "    if 'name' in message:\r\n",
    "        print(f\"my name is {message['name']}\")\r\n",
    "    \r\n",
    "\r\n",
    "person(name='zhangsan', age=18)"
   ],
   "outputs": [],
   "metadata": {}
  },
  {
   "cell_type": "code",
   "execution_count": null,
   "source": [
    "def person(name,age=20,*hobby, **message):    \r\n",
    "    print(f\"my name is {name}, age {age}, hobbies {hobby}, others {message}\")\r\n",
    "    \r\n",
    "\r\n",
    "person('zhangsan', 18, 'running','swimming', height=175, weight=60)"
   ],
   "outputs": [],
   "metadata": {}
  },
  {
   "cell_type": "markdown",
   "source": [],
   "metadata": {}
  },
  {
   "cell_type": "markdown",
   "source": [
    "## 命名关键字参数\r\n",
    "限制关键字参数的名字"
   ],
   "metadata": {}
  },
  {
   "cell_type": "code",
   "execution_count": null,
   "source": [
    "def person(name,age=20,*, height, weight):    \r\n",
    "    print(f\"my name is {name}, age {age}, height {height}, weight {weight}\")    \r\n",
    "\r\n",
    "person('zhangsan', 18, height=175, weight=60)\r\n",
    "person('zhangsan', 18, height=175, weight=60)"
   ],
   "outputs": [
    {
     "output_type": "stream",
     "name": "stdout",
     "text": [
      "my name is zhangsan, age 18, height 175, weight 60\n",
      "my name is zhangsan, age 18, height 175, weight 60\n"
     ]
    }
   ],
   "metadata": {}
  },
  {
   "cell_type": "code",
   "execution_count": null,
   "source": [
    "def person(name,age=20,*, height=175, weight):    \r\n",
    "    print(f\"my name is {name}, age {age}, height {height}, weight {weight}\")    \r\n",
    "\r\n",
    "person('zhangsan', 18)"
   ],
   "outputs": [],
   "metadata": {}
  },
  {
   "cell_type": "code",
   "execution_count": null,
   "source": [
    "def person(name,age=20,*hobby, height=175, weight):    \r\n",
    "    print(f\"my name is {name}, age {age}, hobbies {hobby}, height {height}, weight {weight}\")    \r\n",
    "\r\n",
    "person('zhangsan', 18, 'running','swimming', weight=60)"
   ],
   "outputs": [],
   "metadata": {}
  },
  {
   "cell_type": "markdown",
   "source": [
    "# python参数传递"
   ],
   "metadata": {}
  },
  {
   "cell_type": "code",
   "execution_count": null,
   "source": [
    "def test_func1(l):\r\n",
    "  l.append(4)\r\n",
    "\r\n",
    "l1 = [1, 2, 3]\r\n",
    "l2 = l1\r\n",
    "test_func1(l1)\r\n",
    "print(l1)\r\n",
    "print(l2)"
   ],
   "outputs": [],
   "metadata": {}
  },
  {
   "cell_type": "code",
   "execution_count": null,
   "source": [
    "def test_func2(l):\r\n",
    "  l = l + [4]\r\n",
    "\r\n",
    "l1 = [1, 2, 3]\r\n",
    "test_func2(l1)\r\n",
    "print(l1)\r\n"
   ],
   "outputs": [],
   "metadata": {}
  },
  {
   "cell_type": "code",
   "execution_count": null,
   "source": [
    "def test_func3(l):\r\n",
    "  l = l + [4]\r\n",
    "  return l\r\n",
    "l1 = [1, 2, 3]\r\n",
    "l1 = test_func3(l1)\r\n",
    "print(l1)"
   ],
   "outputs": [],
   "metadata": {}
  },
  {
   "cell_type": "code",
   "execution_count": null,
   "source": [
    "def test_func4(l):\r\n",
    "  l.append(4)\r\n",
    "  return l\r\n",
    "\r\n",
    "l1 = [1, 2, 3]\r\n",
    "l2 = l1\r\n",
    "l1 = test_func4(l1)\r\n",
    "print(l1)\r\n",
    "print(l2)\r\n",
    "print(l1 is l2)"
   ],
   "outputs": [],
   "metadata": {}
  },
  {
   "cell_type": "code",
   "execution_count": null,
   "source": [
    "def test_func5(l):\r\n",
    "  l = l + [4]\r\n",
    "  return l\r\n",
    "\r\n",
    "l1 = [1, 2, 3]\r\n",
    "l2 = l1\r\n",
    "l1 = test_func5(l1)\r\n",
    "print(l1)\r\n",
    "print(l2)\r\n",
    "print(l1 is l2)"
   ],
   "outputs": [],
   "metadata": {}
  },
  {
   "cell_type": "code",
   "execution_count": null,
   "source": [
    "def my_func1(b):\r\n",
    "  b = 2\r\n",
    "\r\n",
    "a = 1\r\n",
    "my_func1(a)\r\n",
    "print(a)"
   ],
   "outputs": [],
   "metadata": {}
  },
  {
   "cell_type": "markdown",
   "source": [
    "# Python参数检查"
   ],
   "metadata": {}
  },
  {
   "cell_type": "code",
   "execution_count": 25,
   "source": [
    "def test_func(x):\r\n",
    "    if not isinstance(x, (int, float)):\r\n",
    "        raise TypeError('bad operand type')\r\n",
    "\r\n",
    "test_func(1)"
   ],
   "outputs": [
    {
     "output_type": "error",
     "ename": "TypeError",
     "evalue": "bad operand type",
     "traceback": [
      "\u001b[1;31m---------------------------------------------------------------------------\u001b[0m",
      "\u001b[1;31mTypeError\u001b[0m                                 Traceback (most recent call last)",
      "\u001b[1;32m<ipython-input-25-d11227253715>\u001b[0m in \u001b[0;36m<module>\u001b[1;34m\u001b[0m\n\u001b[0;32m      3\u001b[0m         \u001b[1;32mraise\u001b[0m \u001b[0mTypeError\u001b[0m\u001b[1;33m(\u001b[0m\u001b[1;34m'bad operand type'\u001b[0m\u001b[1;33m)\u001b[0m\u001b[1;33m\u001b[0m\u001b[1;33m\u001b[0m\u001b[0m\n\u001b[0;32m      4\u001b[0m \u001b[1;33m\u001b[0m\u001b[0m\n\u001b[1;32m----> 5\u001b[1;33m \u001b[0mtest_func\u001b[0m\u001b[1;33m(\u001b[0m\u001b[1;34m'q'\u001b[0m\u001b[1;33m)\u001b[0m\u001b[1;33m\u001b[0m\u001b[1;33m\u001b[0m\u001b[0m\n\u001b[0m",
      "\u001b[1;32m<ipython-input-25-d11227253715>\u001b[0m in \u001b[0;36mtest_func\u001b[1;34m(x)\u001b[0m\n\u001b[0;32m      1\u001b[0m \u001b[1;32mdef\u001b[0m \u001b[0mtest_func\u001b[0m\u001b[1;33m(\u001b[0m\u001b[0mx\u001b[0m\u001b[1;33m)\u001b[0m\u001b[1;33m:\u001b[0m\u001b[1;33m\u001b[0m\u001b[1;33m\u001b[0m\u001b[0m\n\u001b[0;32m      2\u001b[0m     \u001b[1;32mif\u001b[0m \u001b[1;32mnot\u001b[0m \u001b[0misinstance\u001b[0m\u001b[1;33m(\u001b[0m\u001b[0mx\u001b[0m\u001b[1;33m,\u001b[0m \u001b[1;33m(\u001b[0m\u001b[0mint\u001b[0m\u001b[1;33m,\u001b[0m \u001b[0mfloat\u001b[0m\u001b[1;33m)\u001b[0m\u001b[1;33m)\u001b[0m\u001b[1;33m:\u001b[0m\u001b[1;33m\u001b[0m\u001b[1;33m\u001b[0m\u001b[0m\n\u001b[1;32m----> 3\u001b[1;33m         \u001b[1;32mraise\u001b[0m \u001b[0mTypeError\u001b[0m\u001b[1;33m(\u001b[0m\u001b[1;34m'bad operand type'\u001b[0m\u001b[1;33m)\u001b[0m\u001b[1;33m\u001b[0m\u001b[1;33m\u001b[0m\u001b[0m\n\u001b[0m\u001b[0;32m      4\u001b[0m \u001b[1;33m\u001b[0m\u001b[0m\n\u001b[0;32m      5\u001b[0m \u001b[0mtest_func\u001b[0m\u001b[1;33m(\u001b[0m\u001b[1;34m'q'\u001b[0m\u001b[1;33m)\u001b[0m\u001b[1;33m\u001b[0m\u001b[1;33m\u001b[0m\u001b[0m\n",
      "\u001b[1;31mTypeError\u001b[0m: bad operand type"
     ]
    }
   ],
   "metadata": {}
  }
 ],
 "metadata": {
  "interpreter": {
   "hash": "ac59ebe37160ed0dfa835113d9b8498d9f09ceb179beaac4002f036b9467c963"
  },
  "kernelspec": {
   "display_name": "Python 3.9.5 64-bit",
   "name": "python3"
  },
  "language_info": {
   "codemirror_mode": {
    "name": "ipython",
    "version": 3
   },
   "file_extension": ".py",
   "mimetype": "text/x-python",
   "name": "python",
   "nbconvert_exporter": "python",
   "pygments_lexer": "ipython3",
   "version": "3.9.5"
  },
  "orig_nbformat": 4
 },
 "nbformat": 4,
 "nbformat_minor": 2
}