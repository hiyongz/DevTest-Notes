{
 "cells": [
  {
   "cell_type": "markdown",
   "metadata": {},
   "source": [
    "yaml相比json来说数据表示更加简洁，特别适合用来表达或编辑配置文件，和json一样，也是一种数据串行化格式。json的序列化和反序列化可参考[Python json文件读写]()，本文介绍PyYAML库解析、保存yaml文件方法。\n"
   ]
  },
  {
   "cell_type": "markdown",
   "metadata": {},
   "source": [
    "# YAML介绍"
   ]
  },
  {
   "cell_type": "markdown",
   "metadata": {},
   "source": [
    "> YAML是YAML Ain't a Markup Language（YAML不是一种标记语言）的缩写，它其实也是一种标记语言（Yet Another Markup Language），但为了强调这种语言以数据做为中心，而不是以标记语言为重点，而用反向缩略语重命名。https://zh.wikipedia.org/wiki/YAML\n",
    "\n"
   ]
  },
  {
   "cell_type": "markdown",
   "metadata": {},
   "source": [
    "## YAML和JSON差异\n",
    "1. YAML使用缩进表示层级关系，使用空格进行缩进，JSON使用大括号和方括号  \n",
    "2. YAML允许使用`#`注释，JSON不能  \n",
    "3. YAML的字符串可以使用单引号或者双引号，JSON必须使用双引号\n",
    "\n"
   ]
  },
  {
   "cell_type": "code",
   "execution_count": null,
   "metadata": {},
   "outputs": [],
   "source": [
    "Arrays:\n",
    "- 1\n",
    "- 2\n",
    "- 3\n",
    "Dicts:\n",
    "  '1': 1\n",
    "  '2': 2\n",
    "Numbers: 1\n",
    "Strings: value"
   ]
  },
  {
   "cell_type": "code",
   "execution_count": null,
   "metadata": {},
   "outputs": [],
   "source": [
    "{\n",
    "    \"Arrays\": [\n",
    "        1,\n",
    "        2,\n",
    "        3\n",
    "    ],\n",
    "    \"Numbers\": 1,\n",
    "    \"Strings\": \"value\"\n",
    "}"
   ]
  },
  {
   "cell_type": "markdown",
   "metadata": {},
   "source": []
  },
  {
   "cell_type": "code",
   "execution_count": null,
   "metadata": {},
   "outputs": [],
   "source": [
    "with open(\"data1.yaml\", encoding=\"utf-8\") as f:\n",
    "    data = yaml.load(f)\n",
    "    print(data)"
   ]
  },
  {
   "cell_type": "markdown",
   "metadata": {},
   "source": [
    "# yaml序列化\n",
    "安装 \n",
    "```sh \n",
    "pip install pyyaml\n",
    "```\n",
    "## dump\n",
    "dump函数将Python对象序列化为一个YAML文档或者字符串"
   ]
  },
  {
   "cell_type": "code",
   "execution_count": 2,
   "metadata": {},
   "outputs": [
    {
     "name": "stdout",
     "output_type": "stream",
     "text": [
      "---\n",
      "Arrays:\n",
      "- 1\n",
      "- 2\n",
      "- 3\n",
      "Dicts:\n",
      "  '1': 1\n",
      "  '2': 2\n",
      "Numbers: 1\n",
      "Strings: value\n",
      "\n",
      "<class 'str'>\n"
     ]
    }
   ],
   "source": [
    "import yaml\n",
    "data1 = {'Numbers':1, 'Strings':\"value\", 'Arrays':[1,2,3], 'Dicts':{'1':1,'2':2}}\n",
    "data = yaml.dump(data1, explicit_start=True)\n",
    "print(data)\n",
    "print(type(data))"
   ]
  },
  {
   "cell_type": "markdown",
   "metadata": {},
   "source": [
    "## dump_all\n",
    "序列化多个对象"
   ]
  },
  {
   "cell_type": "code",
   "execution_count": null,
   "metadata": {},
   "outputs": [],
   "source": [
    "data2 = [1,2,3]\n",
    "print(yaml.dump_all([data1,data2], explicit_start=True))"
   ]
  },
  {
   "cell_type": "markdown",
   "metadata": {},
   "source": [
    "## 保存到文件中"
   ]
  },
  {
   "cell_type": "code",
   "execution_count": null,
   "metadata": {},
   "outputs": [],
   "source": [
    "with open(\"data1.yaml\", \"w\", encoding=\"utf-8\") as f:\n",
    "    yaml.dump(data1,f,allow_unicode=True)"
   ]
  },
  {
   "cell_type": "markdown",
   "metadata": {},
   "source": [
    "## 序列化类实例\n"
   ]
  },
  {
   "cell_type": "code",
   "execution_count": null,
   "metadata": {},
   "outputs": [],
   "source": [
    "class Person(yaml.YAMLObject):\n",
    "  yaml_tag = u'!Person'\n",
    "  def __init__(self, name, height):\n",
    "    self.name = name\n",
    "    self.height = height\n",
    "\n",
    "  def __repr__(self):\n",
    "    return f\"{self.name}‘s height is {self.height}cm\"\n",
    "\n",
    "p = Person(name='zhangsan', height=175)\n",
    "print(p)\n",
    "print(yaml.dump(p))\n",
    "with open(\"data2.yaml\", \"w\", encoding=\"utf-8\") as f:\n",
    "    yaml.dump(p,f,allow_unicode=True)\n"
   ]
  },
  {
   "cell_type": "markdown",
   "metadata": {},
   "source": [
    "# yaml反序列化\n",
    "## load\n",
    "支持任意类型的python对象"
   ]
  },
  {
   "cell_type": "code",
   "execution_count": null,
   "metadata": {},
   "outputs": [],
   "source": [
    "datas = '{\"Numbers\":1, \"Strings\":\"value\", \"Arrays\":[1,2,3]}'\n",
    "data = yaml.load(datas)\n",
    "print(data)\n",
    "print(type(data))"
   ]
  },
  {
   "cell_type": "markdown",
   "metadata": {},
   "source": [
    "## load_all"
   ]
  },
  {
   "cell_type": "code",
   "execution_count": null,
   "metadata": {},
   "outputs": [],
   "source": [
    "with open(\"data1.yaml\", encoding=\"utf-8\") as f:\n",
    "    # data = yaml.safe_load(f)\n",
    "    datas = yaml.load_all(f)\n",
    "    print(datas)\n",
    "\n",
    "    for data in datas:\n",
    "        print(data)\n",
    "        print(type(data))\n",
    "\n",
    "\n"
   ]
  },
  {
   "cell_type": "markdown",
   "metadata": {},
   "source": [
    "## 修改字段内容"
   ]
  },
  {
   "cell_type": "code",
   "execution_count": 1,
   "metadata": {},
   "outputs": [
    {
     "name": "stdout",
     "output_type": "stream",
     "text": [
      "{'Arrays': [1, 2, 3, 4, 4], 'Dicts': {'1': 1, '2': 2}, 'Numbers': 1, 'Strings': 'hello', 'String2': 'world', 'String3': 'world'}\n",
      "ipykernel_launcher:5: YAMLLoadWarning: calling yaml.load() without Loader=... is deprecated, as the default Loader is unsafe. Please read https://msg.pyyaml.org/load for full details.\n"
     ]
    }
   ],
   "source": [
    "import yaml\n",
    "\n",
    "with open(\"data1.yaml\", encoding=\"utf-8\") as f:\n",
    "    # data = yaml.safe_load(f)\n",
    "    data = yaml.load(f)\n",
    "    data['Arrays'].append(4)\n",
    "    data['Strings'] = 'hello'\n",
    "    # data.update({data['mydict'][0]:123})\n",
    "    print(data)\n",
    "\n",
    "# with open(\"data1.yaml\", \"w\", encoding=\"utf-8\") as f:\n",
    "#     yaml.dump(data,f,allow_unicode=True)"
   ]
  },
  {
   "cell_type": "code",
   "execution_count": 10,
   "metadata": {},
   "outputs": [
    {
     "name": "stdout",
     "output_type": "stream",
     "text": [
      "<class 'str'>\n"
     ]
    }
   ],
   "source": [
    "import datetime\n",
    "now_time = datetime.datetime.now()\n",
    "now_time = now_time.strftime('%Y-%m-%d-%H:%M:%S')\n"
   ]
  },
  {
   "cell_type": "code",
   "execution_count": 12,
   "metadata": {},
   "outputs": [],
   "source": [
    "data[now_time] = {'hello':'1'}\n",
    "with open(\"data1.yaml\", \"w\", encoding=\"utf-8\") as f:\n",
    "    yaml.dump(data,f,allow_unicode=True)"
   ]
  },
  {
   "cell_type": "markdown",
   "metadata": {},
   "source": [
    "## 加载Python类实例\n",
    "也支持加载Python类的实例"
   ]
  },
  {
   "cell_type": "code",
   "execution_count": null,
   "metadata": {},
   "outputs": [],
   "source": [
    "import yaml\n",
    "\n",
    "class Person(yaml.YAMLObject):\n",
    "  yaml_tag = u'!Person'\n",
    "  def __init__(self, name, height):\n",
    "    self.name = name\n",
    "    self.height = height\n",
    "\n",
    "  def __repr__(self):\n",
    "    return f\"{self.name}‘s height is {self.height}cm\"\n",
    "\n",
    "with open(\"data2.yaml\", encoding=\"utf-8\") as f:\n",
    "    p = yaml.safe_load(f)\n",
    "    print(p.name)\n",
    "\n",
    "\n",
    "# with open(\"data2.yaml\", \"w\", encoding=\"utf-8\") as f:\n",
    "#     yaml.dump(steps,f)"
   ]
  },
  {
   "cell_type": "markdown",
   "metadata": {},
   "source": [
    "pyyaml官方文档：[https://pyyaml.org/wiki/PyYAMLDocumentation](https://pyyaml.org/wiki/PyYAMLDocumentation)"
   ]
  }
 ],
 "metadata": {
  "interpreter": {
   "hash": "ac59ebe37160ed0dfa835113d9b8498d9f09ceb179beaac4002f036b9467c963"
  },
  "kernelspec": {
   "display_name": "Python 3.9.5 64-bit",
   "name": "python3"
  },
  "language_info": {
   "codemirror_mode": {
    "name": "ipython",
    "version": 3
   },
   "file_extension": ".py",
   "mimetype": "text/x-python",
   "name": "python",
   "nbconvert_exporter": "python",
   "pygments_lexer": "ipython3",
   "version": "3.7.4"
  },
  "orig_nbformat": 4
 },
 "nbformat": 4,
 "nbformat_minor": 2
}