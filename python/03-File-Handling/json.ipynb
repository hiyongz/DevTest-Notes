{
 "metadata": {
  "language_info": {
   "codemirror_mode": {
    "name": "ipython",
    "version": 3
   },
   "file_extension": ".py",
   "mimetype": "text/x-python",
   "name": "python",
   "nbconvert_exporter": "python",
   "pygments_lexer": "ipython3",
   "version": "3.7.6"
  },
  "orig_nbformat": 4,
  "kernelspec": {
   "name": "python3",
   "display_name": "Python 3.7.6 64-bit ('base': conda)"
  },
  "interpreter": {
   "hash": "a8f61be024eba58adef938c9aa1e29e02cb3dece83a5348b1a2dafd16a070453"
  }
 },
 "nbformat": 4,
 "nbformat_minor": 2,
 "cells": [
  {
   "source": [
    "JSON (JavaScript Object Notation)是一个受 JavaScript 的对象字面量语法启发的轻量级数据交换格式，本文介绍Python json库的使用，也就是序列化和反序列化方法。"
   ],
   "cell_type": "markdown",
   "metadata": {}
  },
  {
   "source": [
    "# 序列化"
   ],
   "cell_type": "markdown",
   "metadata": {}
  },
  {
   "source": [
    "## dump\n",
    "写入到文件，将对象转换为json字符串格式，这样更容易存储。"
   ],
   "cell_type": "markdown",
   "metadata": {}
  },
  {
   "cell_type": "code",
   "execution_count": 3,
   "metadata": {},
   "outputs": [],
   "source": [
    "import json\n",
    "data = {'Numbers':1, 'Strings':\"value\", 'Arrays':[1,2,3], 'Dicts':{'1':1,'2':2}}\n",
    "with open(\"data1.json\", \"w\", encoding=\"utf-8\") as f:\n",
    "    json.dump(data, f, sort_keys=True, indent=4)"
   ]
  },
  {
   "source": [
    "## dumps\n",
    "将对象转换为string，这样更容易传输"
   ],
   "cell_type": "markdown",
   "metadata": {}
  },
  {
   "cell_type": "code",
   "execution_count": 19,
   "metadata": {},
   "outputs": [
    {
     "output_type": "stream",
     "name": "stdout",
     "text": [
      "{\n    \"Arrays\": [\n        1,\n        2,\n        3\n    ],\n    \"Numbers\": 1,\n    \"Strings\": \"value\"\n}\n<class 'str'>\n"
     ]
    }
   ],
   "source": [
    "data2 = {'Numbers':1, 'Strings':\"value\", 'Arrays':[1,2,3]}\n",
    "data = json.dumps(data2, sort_keys=True, indent=4)\n",
    "print(data)\n",
    "print(type(data))\n"
   ]
  },
  {
   "source": [
    "## 将类实例转化成json字符串\n",
    "也可以将类实例转化成json字符串，需要先将实例转化为可序列化操作的对象。下面介绍3种方案：  \n",
    "1. 获取实例的`__dict__`成员变量  \n",
    "2. 使用Python内置函数`vars()`获取`__dict__`  \n",
    "3. 类继承JSONEncoder，自定义JSONEncoder.default()函数  \n"
   ],
   "cell_type": "markdown",
   "metadata": {}
  },
  {
   "cell_type": "code",
   "execution_count": 32,
   "metadata": {},
   "outputs": [
    {
     "output_type": "stream",
     "name": "stdout",
     "text": [
      "{'name': 'zhangsan', 'height': 175}\n{\n    \"height\": 175,\n    \"name\": \"zhangsan\"\n}\n{\n    \"height\": 175,\n    \"name\": \"zhangsan\"\n}\n{\n    \"height\": 175,\n    \"name\": \"zhangsan\"\n}\n{\n    \"height\": 175,\n    \"name\": \"zhangsan\"\n}\n"
     ]
    }
   ],
   "source": [
    "class JsonClassSerializable(json.JSONEncoder):\n",
    "    \"\"\"JSON serializer for objects\"\"\"\n",
    "    def default(self, obj):\n",
    "        if isinstance(obj, Person):\n",
    "            return obj.__dict__\n",
    "        else:\n",
    "            return json.JSONEncoder.default(self, obj)    \n",
    "\n",
    "class Person():\n",
    "  def __init__(self, name, height):\n",
    "    self.name = name\n",
    "    self.height = height\n",
    "p = Person(\"zhangsan\",175)\n",
    "print(p.__dict__)\n",
    "data1 = json.dumps(p.__dict__, sort_keys=True, indent=4)\n",
    "print(data1)\n",
    "data2 = json.dumps(vars(p), sort_keys=True, indent=4)\n",
    "print(data2)\n",
    "data3 = json.dumps(p, default=lambda x: x.__dict__, sort_keys=True, indent=4)\n",
    "print(data3)\n",
    "data4 = json.dumps(p, cls=JsonClassSerializable, sort_keys=True, indent=4)\n",
    "print(data4)"
   ]
  },
  {
   "source": [
    "# 反序列化"
   ],
   "cell_type": "markdown",
   "metadata": {}
  },
  {
   "source": [
    "json反序列化是将json数据或者字符串转化为Python对象，对应load和loads两个方法：\n",
    "- load：针对文件句柄，用于读取文件  \n",
    "- loads：针对内存对象，将string转换为对象\n"
   ],
   "cell_type": "markdown",
   "metadata": {}
  },
  {
   "source": [
    "## load"
   ],
   "cell_type": "markdown",
   "metadata": {}
  },
  {
   "cell_type": "code",
   "execution_count": 41,
   "metadata": {},
   "outputs": [
    {
     "output_type": "stream",
     "name": "stdout",
     "text": [
      "{'Arrays': [1, 2, 3], 'Numbers': 1, 'Objects': {'1': 1, '2': 2}, 'Strings': 'value'}\n<class 'dict'>\n<class 'list'>\n"
     ]
    }
   ],
   "source": [
    "with open(\"data1.json\", \"r\", encoding=\"utf-8\") as f:\n",
    "    data = json.load(f)\n",
    "    print(data)\n",
    "    print(type(data))\n",
    "    print(type(data['Arrays']))\n"
   ]
  },
  {
   "source": [
    "## loads"
   ],
   "cell_type": "markdown",
   "metadata": {}
  },
  {
   "cell_type": "code",
   "execution_count": 40,
   "metadata": {},
   "outputs": [
    {
     "output_type": "stream",
     "name": "stdout",
     "text": [
      "{'Numbers': 1, 'Strings': 'value', 'Arrays': [1, 2, 3]}\n<class 'dict'>\n"
     ]
    }
   ],
   "source": [
    "datas = '{\"Numbers\":1, \"Strings\":\"value\", \"Arrays\":[1,2,3]}'\n",
    "data = json.loads(datas)\n",
    "print(data)\n",
    "print(type(data))\n"
   ]
  },
  {
   "source": [
    "## JSON反序列化类对象"
   ],
   "cell_type": "markdown",
   "metadata": {}
  },
  {
   "cell_type": "code",
   "execution_count": 18,
   "metadata": {},
   "outputs": [
    {
     "output_type": "stream",
     "name": "stdout",
     "text": [
      "<__main__.Person object at 0x000001FA98439748>\nzhangsan\n175\nMy name is zhangsan\n"
     ]
    }
   ],
   "source": [
    "class Person():\n",
    "    def __init__(self, d):\n",
    "        self.__dict__ = d\n",
    "    def introduce(self):\n",
    "        print(f\"My name is {self.name}\")\n",
    "\n",
    "data = '{\"name\": \"zhangsan\", \"height\": 175}' \n",
    "p = json.loads(data, object_hook=Person)\n",
    "print(p)\n",
    "print(p.name)\n",
    "print(p.height)\n",
    "p.introduce()\n",
    "\n"
   ]
  },
  {
   "source": [
    "参考文档\n",
    "1. https://docs.python.org/zh-cn/3.9/library/json.html\n"
   ],
   "cell_type": "markdown",
   "metadata": {}
  }
 ]
}