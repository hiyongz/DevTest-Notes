{
 "cells": [
  {
   "cell_type": "markdown",
   "metadata": {},
   "source": [
    "## python操作Excel表格"
   ]
  },
  {
   "cell_type": "markdown",
   "metadata": {},
   "source": [
    "## 1.win32com模块\n",
    "该库不单独存在，可通过安装 pypiwin32 或者 pywin32 获取。"
   ]
  },
  {
   "cell_type": "markdown",
   "metadata": {},
   "source": [
    "**安装**：\n",
    "pip3 install pypiwin32"
   ]
  },
  {
   "cell_type": "markdown",
   "metadata": {},
   "source": [
    "#### 添加工作簿、添加工作表"
   ]
  },
  {
   "cell_type": "code",
   "execution_count": 12,
   "metadata": {
    "collapsed": true
   },
   "outputs": [],
   "source": [
    "import win32com.client as win32\n",
    "excel = win32.gencache.EnsureDispatch('Excel.Application')\n",
    "# excel = win32.Dispatch('Excel.Application')  \n",
    "wb = excel.Workbooks.Add()\n",
    "ws = wb.Worksheets.Add()\n",
    "ws.Name = \"TestSheet\"\n",
    "wb.Worksheets.Add().Name = \"Sum\"\n",
    "wb.Worksheets.Add().Name = \"Log\"\n",
    "wb.Worksheets.Add().Name = \"LogDict\"\n",
    "wb.SaveAs('test_workbook.xlsx')\n",
    "excel.Application.Quit()"
   ]
  },
  {
   "cell_type": "markdown",
   "metadata": {},
   "source": [
    "#### 打开工作簿、定位工作簿"
   ]
  },
  {
   "cell_type": "code",
   "execution_count": 13,
   "metadata": {
    "collapsed": true
   },
   "outputs": [],
   "source": [
    "#\n",
    "# Open an existing workbook\n",
    "#\n",
    "import win32com.client as win32\n",
    "excel = win32.gencache.EnsureDispatch('Excel.Application')\n",
    "wb = excel.Workbooks.Open('test_workbook.xlsx')\n",
    "# Alternately, specify the full path to the workbook \n",
    "# wb = excel.Workbooks.Open(r'C:\\myfiles\\excel\\workbook2.xlsx')\n",
    "excel.Visible = True\n",
    "Sum_Report=wb.Worksheets(\"Sum\")\n",
    "Log_Report = wb.Worksheets(\"Log\")\n",
    "Module_Report=wb.Worksheets(\"LogDict\")\n",
    "# foucs on Sum\n",
    "Sum_Report.Activate()"
   ]
  },
  {
   "cell_type": "markdown",
   "metadata": {},
   "source": [
    "#### 单元格格式\n",
    "设置行高、设置单元格高度、设置自动行高、合并单元格等"
   ]
  },
  {
   "cell_type": "code",
   "execution_count": 14,
   "metadata": {
    "collapsed": true
   },
   "outputs": [],
   "source": [
    "Sum_Report.Cells(2,1).Value='2 line'\n",
    "Sum_Report.Range(\"A1\").Value = \"1 line\" #向A1填写内容\n",
    "Sum_Report.Range(\"A1\").RowHeight =60 #设置行高\n",
    "Sum_Report.Rows(1).RowHeight = 60\n",
    "Sum_Report.Columns(\"B:C\").ColumnWidth = 16 #设置固定宽度\n",
    "Sum_Report.Columns.AutoFit() #自动调整列宽\n",
    "Sum_Report.Rows.AutoFit()#自动调整行高\n",
    "cell_me=Sum_Report.Range(\"A1\",\"I1\") \n",
    "cell_me.MergeCells = True #合并单元格\n",
    "cell_me.MergeCells = False "
   ]
  },
  {
   "cell_type": "markdown",
   "metadata": {},
   "source": [
    "#### 单元格内容\n",
    "设置单元格内容、设置字体、设置字体颜色、设置字体大小、设置下划线\n",
    "excel vba 颜色代码：https://access-excel.tips/excel-vba-color-code-list/"
   ]
  },
  {
   "cell_type": "code",
   "execution_count": 15,
   "metadata": {
    "collapsed": false
   },
   "outputs": [
    {
     "data": {
      "text/plain": [
       "True"
      ]
     },
     "execution_count": 15,
     "metadata": {},
     "output_type": "execute_result"
    }
   ],
   "source": [
    "from win32com.client import constants as c  # 旨在直接使用VBA常数\n",
    "\n",
    "cell = \"A1\"\n",
    "Sum_Report.Range(cell).Value = u\"  √\"\n",
    "Sum_Report.Cells(2,2).Value = \"Hello\"\n",
    "#{'red':0x0000ff,'blue':0xff0000,'green':0x00ff00,'black':0x00000}\n",
    "Sum_Report.Range(cell).Font.Color = 0x0000ff #字体颜色\n",
    "Sum_Report.Range(cell).Font.Name = \"黑体\"#设置中文字体\n",
    "Sum_Report.Range(cell).Font.Name  = \"Arial\" #字体类型，先设置中文字体，再设置西文字体，才能达到效果\n",
    "Sum_Report.Range(cell).Font.Size = 12 #字体大小\n",
    "Sum_Report.Cells(2,1).Font.Bold = True # 加粗\n",
    "Sum_Report.Range(cell).Font.Underline = True #下划线\n",
    "\n",
    "Sum_Report.Cells(1,2).Value = \"Hello\"\n",
    "# Sum_Report.Cells(2, 2).HorizontalAlignment = c.xlCenter #水平居中xlCenter \n",
    "# Sum_Report.Cells(2, 1).VerticalAlignment = c.xlCenter # \n",
    "rng_Cells = Sum_Report.Cells\n",
    "rng_Cells.HorizontalAlignment = c.xlCenter #所有表格居中\n",
    "\n",
    "# Sum_Report.Rows(1).Delete()#删除行\n",
    "# Sum_Report.Columns(2).Delete()#删除列\n",
    "Sum_Report.Cells(1, 2).Interior.ColorIndex = -4142#表格背景 \n",
    "# Sum_Report.Cells(1, 2).Interior.ColorIndex = 4#表格背景\n",
    "Sum_Report.Cells(2, 1).Borders.ColorIndex = 3#边框颜色\n",
    "\n",
    "# http://flame-blaze.net/pywin32\n",
    "def rgbToInt(rgb):\n",
    "    colorInt = rgb[0] + (rgb[1] * 256) + (rgb[2] * 256 * 256)\n",
    "    return colorInt\n",
    "# cell.Interior.Color = rgbToInt((255,0,0))\n",
    "Sum_Report.Cells(1, 2).Interior.Color =rgbToInt((255,0,0))#表格背景\n",
    "Sum_Report.Cells(1, 2).Interior.Color =rgbToInt((0xff,0x00,0x00))#表格背景\n",
    "\n",
    "Sum_Report.Cells(4, 2).BorderAround(1,4)#表格边框 "
   ]
  },
  {
   "cell_type": "markdown",
   "metadata": {},
   "source": [
    "#### 添加超链接\n",
    "为某个单元格添加超链接，可链接至本文档某个工作表，也可为其他地址"
   ]
  },
  {
   "cell_type": "code",
   "execution_count": 16,
   "metadata": {
    "collapsed": false
   },
   "outputs": [
    {
     "data": {
      "text/plain": [
       "<win32com.gen_py.Microsoft Excel 16.0 Object Library.Hyperlink instance at 0x1906447688520>"
      ]
     },
     "execution_count": 16,
     "metadata": {},
     "output_type": "execute_result"
    }
   ],
   "source": [
    "Sum_Report.Hyperlinks.Add(Anchor=Sum_Report.Range(\"A3\"),\n",
    "                          Address=\"Report_1.xlsx\",\n",
    "                          SubAddress=\"Log!A3\",\n",
    "                          TextToDisplay=\"A3\")"
   ]
  },
  {
   "cell_type": "markdown",
   "metadata": {},
   "source": [
    "#### 保存退出"
   ]
  },
  {
   "cell_type": "code",
   "execution_count": 17,
   "metadata": {
    "collapsed": true
   },
   "outputs": [],
   "source": [
    "wb.Save()\n",
    "wb.Close()"
   ]
  },
  {
   "cell_type": "code",
   "execution_count": 18,
   "metadata": {
    "collapsed": true
   },
   "outputs": [],
   "source": [
    "import win32com.client\n",
    "\n",
    "excel = r'C:\\Users\\DELL\\Documents\\Report_1.xlsx'\n",
    "\n",
    "xlApp = win32com.client.Dispatch(\"Excel.Application\")\n",
    "workbook = xlApp.Workbooks.Open(excel)\n",
    "worksheet = workbook.Worksheets(\"Sheet1\") \n",
    "\n",
    "for xlRow in range(1, 10, 1):\n",
    "    worksheet.Hyperlinks.Add(Anchor = worksheet.Range('A{}'.format(xlRow)),\n",
    "                             Address=\"http://www.microsoft.com\",\n",
    "                             ScreenTip=\"Microsoft Web Site\",\n",
    "                             TextToDisplay=\"Microsoft\")\n",
    "workbook.Save()\n",
    "workbook.Close()"
   ]
  },
  {
   "cell_type": "markdown",
   "metadata": {},
   "source": [
    "## 2.xlwings模块\n",
    "xlwings 与 win32com不同的是 xlwings 可支持Mac操作系统,\n",
    "相同的是两个库都是对操作系统api的二次封装后直接调用。"
   ]
  },
  {
   "cell_type": "markdown",
   "metadata": {},
   "source": [
    "**安装**：\n",
    "* pip install xlwings\n",
    "* pip3 install xlwings"
   ]
  },
  {
   "cell_type": "markdown",
   "metadata": {},
   "source": [
    "#### 打开工作簿、定位工作表"
   ]
  },
  {
   "cell_type": "code",
   "execution_count": 67,
   "metadata": {
    "collapsed": true
   },
   "outputs": [],
   "source": [
    "import xlwings as xw\n",
    "BOOKKS = xw.Book('C:/Users/DELL/Documents/test_workbook.xlsx')\n",
    "Sum_Report=xw.sheets[\"Sum\"]\n",
    "Log_Report =xw.sheets[\"Log\"]\n",
    "Module_Report=xw.sheets[\"LogDict\"]\n",
    "\n",
    "sht=Log_Report\n",
    "sht.activate()"
   ]
  },
  {
   "cell_type": "markdown",
   "metadata": {},
   "source": [
    "#### 单元格内容\n",
    "设置单元格内容、设置字体、设置字体颜色、设置字体大小、设置下划线"
   ]
  },
  {
   "cell_type": "code",
   "execution_count": 71,
   "metadata": {
    "collapsed": false
   },
   "outputs": [
    {
     "data": {
      "text/plain": [
       "True"
      ]
     },
     "execution_count": 71,
     "metadata": {},
     "output_type": "execute_result"
    }
   ],
   "source": [
    "from win32com.client import constants as c  # 旨在直接使用VBA常数\n",
    "cell = \"A1\"\n",
    "cell_me=Log_Report.range(cell)\n",
    "cell_me.value = \"  √\"\n",
    "#{'red':(0,0,255),'blue':(255,0,0),'green':(0,255,0),'black':(0,0,0)}\n",
    "cell_me.api.Font.Color=0x0000ff\n",
    "cell_me.api.Font.Size = 12\n",
    "cell_me.api.Font.Name = \"黑体\"\n",
    "cell_me.api.Font.Name  = \"Arial\"\n",
    "cell_me.api.Font.Underline = True    #下划线\n",
    "cell_me.api.Borders.ColorIndex = 3\n",
    "cell_me.api.HorizontalAlignment = c.xlCenter #居中\n",
    "cell_me.api.VerticalAlignment = c.xlCenter #居中\n",
    "Log_Report.range('A1:B3').api.HorizontalAlignment = c.xlCenter #居中\n",
    "\n",
    "Log_Report.range(1, 2).api.Interior.ColorIndex = -4142#表格背景 \n",
    "# Sum_Report.Cells(1, 2).Interior.ColorIndex = 4#表格背景\n",
    "Log_Report.range(2, 1).api.Borders.ColorIndex = 3#边框颜色\n",
    "\n",
    "# http://flame-blaze.net/pywin32\n",
    "def rgbToInt(rgb):\n",
    "    colorInt = rgb[0] + (rgb[1] * 256) + (rgb[2] * 256 * 256)\n",
    "    return colorInt\n",
    "# cell.Interior.Color = rgbToInt((255,0,0))\n",
    "Log_Report.range('C3').color =(255,0,0)#表格背景\n",
    "Log_Report.range(1, 2).api.Interior.Color =rgbToInt((255,0,0))#表格背景\n",
    "Log_Report.range(1, 2).api.Interior.Color =rgbToInt((0xff,0x00,0x00))#表格背景\n",
    "Log_Report.range(1, 2).api.BorderAround(1,4)#表格边框 "
   ]
  },
  {
   "cell_type": "markdown",
   "metadata": {},
   "source": [
    "#### 添加超链接"
   ]
  },
  {
   "cell_type": "code",
   "execution_count": 74,
   "metadata": {
    "collapsed": true
   },
   "outputs": [],
   "source": [
    "value = \"test\"\n",
    "filename = \"C:/Users/DELL/Documents/Report_1.xlsx\"+\"#\"+\"Log!A3\"\n",
    "cell = \"A1\"\n",
    "cell_me=Log_Report.range(cell)\n",
    "cell_me.add_hyperlink(filename,value,screen_tip=None)"
   ]
  },
  {
   "cell_type": "code",
   "execution_count": 73,
   "metadata": {
    "collapsed": true
   },
   "outputs": [],
   "source": [
    "value = \"test\"\n",
    "filename = \"www.baidu.com\"\n",
    "cell = \"A1\"\n",
    "cell_me=Log_Report.range(cell)\n",
    "cell_me.add_hyperlink(filename,value,'提示：点击即链接到百度')"
   ]
  },
  {
   "cell_type": "markdown",
   "metadata": {},
   "source": [
    "## 3.xlrd模块\n",
    "xlrd是读excel，xlwt是写excel的库(只支持xls格式)\n",
    "安装：pip install xlrd"
   ]
  },
  {
   "cell_type": "markdown",
   "metadata": {},
   "source": [
    "#### 读取单元格内容\n",
    "根据单元格位置定位并读取单元格内容"
   ]
  },
  {
   "cell_type": "code",
   "execution_count": 23,
   "metadata": {
    "collapsed": false
   },
   "outputs": [
    {
     "name": "stdout",
     "output_type": "stream",
     "text": [
      "3\n",
      "2\n",
      "Hello\n",
      "Hello\n",
      "\n"
     ]
    }
   ],
   "source": [
    "import xlrd\n",
    "fname = 'C:/Users/DELL/Documents/test_workbook.xlsx'\n",
    "wkbook= xlrd.open_workbook(fname)#创建book对象\n",
    "sheet=wkbook.sheet_by_name('Sum')#创建工作表对象\n",
    "nrows=sheet.nrows#创建行对象\n",
    "ncols=sheet.ncols#创建列对象\n",
    "print(nrows)\n",
    "print(ncols)\n",
    "for row in range(nrows):\n",
    "    itemname=sheet.cell(row,1).value#读取某个单元格的值    \n",
    "    print(itemname)"
   ]
  },
  {
   "cell_type": "code",
   "execution_count": null,
   "metadata": {
    "collapsed": true
   },
   "outputs": [],
   "source": []
  }
 ],
 "metadata": {
  "kernelspec": {
   "display_name": "Python [default]",
   "language": "python",
   "name": "python3"
  },
  "language_info": {
   "codemirror_mode": {
    "name": "ipython",
    "version": 3
   },
   "file_extension": ".py",
   "mimetype": "text/x-python",
   "name": "python",
   "nbconvert_exporter": "python",
   "pygments_lexer": "ipython3",
   "version": "3.5.6"
  }
 },
 "nbformat": 4,
 "nbformat_minor": 2
}
