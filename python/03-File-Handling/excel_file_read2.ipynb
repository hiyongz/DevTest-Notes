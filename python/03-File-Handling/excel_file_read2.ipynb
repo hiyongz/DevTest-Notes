{
 "cells": [
  {
   "cell_type": "code",
   "execution_count": 3,
   "metadata": {
    "collapsed": false
   },
   "outputs": [],
   "source": [
    "import win32com.client as win32\n",
    "excel = win32.gencache.EnsureDispatch('Excel.Application')\n",
    "wb = excel.Workbooks.Add()\n",
    "ws = wb.Worksheets.Add()\n",
    "ws.Name = \"TestSheet\"\n",
    "wb.Worksheets.Add().Name = \"Sum\"\n",
    "wb.Worksheets.Add().Name = \"Log\"\n",
    "wb.Worksheets.Add().Name = \"LogDict\"\n",
    "wb.SaveAs('test_workbook.xlsx')\n",
    "excel.Application.Quit()"
   ]
  },
  {
   "cell_type": "code",
   "execution_count": 5,
   "metadata": {
    "collapsed": true
   },
   "outputs": [],
   "source": [
    "wb = excel.Workbooks.Open('test_workbook.xlsx')\n",
    "# Alternately, specify the full path to the workbook \n",
    "# wb = excel.Workbooks.Open(r'C:\\myfiles\\excel\\workbook2.xlsx')\n",
    "excel.Visible = True\n",
    "Sum_Report=wb.Worksheets(\"Sum\")\n",
    "Log_Report = wb.Worksheets(\"Log\")\n",
    "Module_Report=wb.Worksheets(\"LogDict\")\n",
    "# foucs on Sum\n",
    "Log_Report.Activate()"
   ]
  },
  {
   "cell_type": "code",
   "execution_count": 8,
   "metadata": {
    "collapsed": true
   },
   "outputs": [],
   "source": [
    "Sum_Report.Cells(2,1).Value='2 line'\n",
    "Sum_Report.Range(\"A1\").Value = \"1 line\" #向A1填写内容\n",
    "Sum_Report.Range(\"A1\").RowHeight =60 #设置行高"
   ]
  },
  {
   "cell_type": "code",
   "execution_count": 9,
   "metadata": {
    "collapsed": true
   },
   "outputs": [],
   "source": [
    "Sum_Report.Columns(\"B:C\").ColumnWidth = 16 #设置固定宽度"
   ]
  },
  {
   "cell_type": "code",
   "execution_count": 10,
   "metadata": {
    "collapsed": false
   },
   "outputs": [
    {
     "data": {
      "text/plain": [
       "True"
      ]
     },
     "execution_count": 10,
     "metadata": {},
     "output_type": "execute_result"
    }
   ],
   "source": [
    "Sum_Report.Columns.AutoFit() #自动调整列宽\n",
    "Sum_Report.Rows.AutoFit()#自动调整行高"
   ]
  },
  {
   "cell_type": "code",
   "execution_count": 11,
   "metadata": {
    "collapsed": true
   },
   "outputs": [],
   "source": [
    "cell_me=Sum_Report.Range(\"A1\",\"I1\") \n",
    "cell_me.MergeCells = True #合并单元格"
   ]
  },
  {
   "cell_type": "code",
   "execution_count": 12,
   "metadata": {
    "collapsed": true
   },
   "outputs": [],
   "source": [
    "cell_me.MergeCells = False #合并单元格"
   ]
  },
  {
   "cell_type": "code",
   "execution_count": 13,
   "metadata": {
    "collapsed": true
   },
   "outputs": [],
   "source": [
    "from win32com.client import constants as c  # 旨在直接使用VBA常数\n",
    "\n",
    "cell = \"A1\"\n",
    "Sum_Report.Range(cell).Value = u\"  √\"\n",
    "Sum_Report.Cells(2,2).Value = \"Hello\""
   ]
  },
  {
   "cell_type": "code",
   "execution_count": 14,
   "metadata": {
    "collapsed": true
   },
   "outputs": [],
   "source": [
    "Sum_Report.Range(cell).Font.Color = 0x0000ff #字体颜色"
   ]
  },
  {
   "cell_type": "code",
   "execution_count": 15,
   "metadata": {
    "collapsed": true
   },
   "outputs": [],
   "source": [
    "Sum_Report.Range(cell).Font.Name = \"黑体\"#设置中文字体\n",
    "Sum_Report.Range(cell).Font.Name  = \"Arial\" #字体类型，先设置中文字体，再设置西文字体，才能达到效果\n",
    "Sum_Report.Range(cell).Font.Size = 12 #字体大小"
   ]
  },
  {
   "cell_type": "code",
   "execution_count": 16,
   "metadata": {
    "collapsed": true
   },
   "outputs": [],
   "source": [
    "Sum_Report.Cells(2,1).Font.Bold = True # 加粗\n",
    "Sum_Report.Range(cell).Font.Underline = True #下划线"
   ]
  },
  {
   "cell_type": "code",
   "execution_count": 17,
   "metadata": {
    "collapsed": true
   },
   "outputs": [],
   "source": [
    "rng_Cells = Sum_Report.Cells\n",
    "rng_Cells.HorizontalAlignment = c.xlCenter #所有表格居中"
   ]
  },
  {
   "cell_type": "code",
   "execution_count": 18,
   "metadata": {
    "collapsed": true
   },
   "outputs": [],
   "source": [
    "Sum_Report.Cells(1, 2).Interior.ColorIndex = -4142#表格背景 "
   ]
  },
  {
   "cell_type": "code",
   "execution_count": 19,
   "metadata": {
    "collapsed": true
   },
   "outputs": [],
   "source": [
    "Sum_Report.Cells(1, 2).Interior.ColorIndex = 3#表格背景 "
   ]
  },
  {
   "cell_type": "code",
   "execution_count": 20,
   "metadata": {
    "collapsed": true
   },
   "outputs": [],
   "source": [
    "Sum_Report.Cells(2, 1).Borders.ColorIndex = 3#边框颜色"
   ]
  },
  {
   "cell_type": "code",
   "execution_count": 21,
   "metadata": {
    "collapsed": false
   },
   "outputs": [
    {
     "data": {
      "text/plain": [
       "<win32com.gen_py.Microsoft Excel 16.0 Object Library.Hyperlink instance at 0x2418247642696>"
      ]
     },
     "execution_count": 21,
     "metadata": {},
     "output_type": "execute_result"
    }
   ],
   "source": [
    "Sum_Report.Hyperlinks.Add(Anchor=Sum_Report.Range(\"A3\"),\n",
    "                          Address=\"Report_1.xlsx\",\n",
    "                          SubAddress=\"Log!A3\",\n",
    "                          TextToDisplay=\"A3\")"
   ]
  },
  {
   "cell_type": "code",
   "execution_count": 22,
   "metadata": {
    "collapsed": true
   },
   "outputs": [],
   "source": [
    "wb.Save()\n",
    "wb.Close()"
   ]
  },
  {
   "cell_type": "code",
   "execution_count": 23,
   "metadata": {
    "collapsed": true
   },
   "outputs": [],
   "source": [
    "import xlwings as xw\n",
    "# BOOKKS = xw.Book('C:/Users/DELL/Documents/test_workbook.xlsx')\n",
    "app=xw.App(visible=True,add_book=False) #使用xlwings的app启动\n",
    "wb = app.books.open('C:/Users/10287/Documents/test_workbook.xlsx')   \n",
    "\n"
   ]
  },
  {
   "cell_type": "code",
   "execution_count": 24,
   "metadata": {
    "collapsed": true
   },
   "outputs": [],
   "source": [
    "Sum_Report=wb.sheets[\"Sum\"]\n",
    "Log_Report =wb.sheets[\"Log\"]\n",
    "Module_Report=wb.sheets[\"LogDict\"]\n",
    "\n",
    "sht=Log_Report\n",
    "sht.activate()"
   ]
  },
  {
   "cell_type": "code",
   "execution_count": 25,
   "metadata": {
    "collapsed": false
   },
   "outputs": [
    {
     "data": {
      "text/plain": [
       "True"
      ]
     },
     "execution_count": 25,
     "metadata": {},
     "output_type": "execute_result"
    }
   ],
   "source": [
    "from win32com.client import constants as c  # 旨在直接使用VBA常数\n",
    "cell = \"A1\"\n",
    "cell_me=Log_Report.range(cell)\n",
    "cell_me.value = \"  √\"\n",
    "#{'red':(0,0,255),'blue':(255,0,0),'green':(0,255,0),'black':(0,0,0)}\n",
    "cell_me.api.Font.Color=0x0000ff\n",
    "cell_me.api.Font.Size = 12\n",
    "cell_me.api.Font.Name = \"黑体\"\n",
    "cell_me.api.Font.Name  = \"Arial\"\n",
    "cell_me.api.Font.Underline = True    #下划线\n",
    "cell_me.api.Borders.ColorIndex = 3\n",
    "cell_me.api.HorizontalAlignment = c.xlCenter #居中\n",
    "cell_me.api.VerticalAlignment = c.xlCenter #居中\n",
    "Log_Report.range('A1:B3').api.HorizontalAlignment = c.xlCenter #居中\n",
    "\n",
    "Log_Report.range(1, 2).api.Interior.ColorIndex = -4142#表格背景 \n",
    "# Sum_Report.Cells(1, 2).Interior.ColorIndex = 4#表格背景\n",
    "Log_Report.range(2, 1).api.Borders.ColorIndex = 3#边框颜色\n",
    "\n",
    "# http://flame-blaze.net/pywin32\n",
    "def rgbToInt(rgb):\n",
    "    colorInt = rgb[0] + (rgb[1] * 256) + (rgb[2] * 256 * 256)\n",
    "    return colorInt\n",
    "# cell.Interior.Color = rgbToInt((255,0,0))\n",
    "Log_Report.range('C3').color =(255,0,0)#表格背景\n",
    "Log_Report.range(1, 2).api.Interior.Color =rgbToInt((255,0,0))#表格背景\n",
    "Log_Report.range(1, 2).api.Interior.Color =rgbToInt((0xff,0x00,0x00))#表格背景\n",
    "Log_Report.range(1, 2).api.BorderAround(1,4)#表格边框 "
   ]
  },
  {
   "cell_type": "code",
   "execution_count": 29,
   "metadata": {
    "collapsed": true
   },
   "outputs": [],
   "source": [
    "value = \"test\"\n",
    "filename = \"C:/Users/10287/Documents/Report_1.xlsx\"+\"#\"+\"Log!A3\"\n",
    "cell = \"A1\"\n",
    "cell_me=Log_Report.range(cell)\n",
    "cell_me.add_hyperlink(filename,value,screen_tip=None)"
   ]
  },
  {
   "cell_type": "code",
   "execution_count": 32,
   "metadata": {
    "collapsed": true
   },
   "outputs": [],
   "source": [
    "cell_me=Log_Report.range(\"A1:I1\") \n",
    "cell_me.MergeCells = True #合并单元格"
   ]
  },
  {
   "cell_type": "code",
   "execution_count": 33,
   "metadata": {
    "collapsed": false
   },
   "outputs": [
    {
     "name": "stdout",
     "output_type": "stream",
     "text": [
      "7\n",
      "3\n",
      "\n",
      "Hello\n",
      "\n",
      "\n",
      "\n",
      "\n",
      "\n"
     ]
    }
   ],
   "source": [
    "import xlrd\n",
    "fname = 'C:/Users/10287/Documents/test_workbook.xlsx'\n",
    "wkbook= xlrd.open_workbook(fname)#创建book对象\n",
    "sheet=wkbook.sheet_by_name('Sum')#创建工作表对象\n",
    "nrows=sheet.nrows#创建行对象\n",
    "ncols=sheet.ncols#创建列对象\n",
    "print(nrows)\n",
    "print(ncols)\n",
    "for row in range(nrows):\n",
    "    itemname=sheet.cell(row,1).value#读取某个单元格的值    \n",
    "    print(itemname)"
   ]
  },
  {
   "cell_type": "code",
   "execution_count": null,
   "metadata": {
    "collapsed": true
   },
   "outputs": [],
   "source": []
  }
 ],
 "metadata": {
  "kernelspec": {
   "display_name": "Python [default]",
   "language": "python",
   "name": "python3"
  },
  "language_info": {
   "codemirror_mode": {
    "name": "ipython",
    "version": 3
   },
   "file_extension": ".py",
   "mimetype": "text/x-python",
   "name": "python",
   "nbconvert_exporter": "python",
   "pygments_lexer": "ipython3",
   "version": "3.5.6"
  }
 },
 "nbformat": 4,
 "nbformat_minor": 1
}
